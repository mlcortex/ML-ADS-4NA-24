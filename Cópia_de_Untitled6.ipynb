{
  "nbformat": 4,
  "nbformat_minor": 0,
  "metadata": {
    "colab": {
      "provenance": [],
      "authorship_tag": "ABX9TyNJ70Xq0ZOlHb+W1U5dPOcr",
      "include_colab_link": true
    },
    "kernelspec": {
      "name": "python3",
      "display_name": "Python 3"
    },
    "language_info": {
      "name": "python"
    }
  },
  "cells": [
    {
      "cell_type": "markdown",
      "metadata": {
        "id": "view-in-github",
        "colab_type": "text"
      },
      "source": [
        "<a href=\"https://colab.research.google.com/github/LuisSilva79/ML-ADS-4NA-24/blob/main/C%C3%B3pia_de_Untitled6.ipynb\" target=\"_parent\"><img src=\"https://colab.research.google.com/assets/colab-badge.svg\" alt=\"Open In Colab\"/></a>"
      ]
    },
    {
      "cell_type": "code",
      "execution_count": null,
      "metadata": {
        "id": "UStSzTOa7W_v"
      },
      "outputs": [],
      "source": []
    },
    {
      "cell_type": "markdown",
      "source": [
        "# Equipe \"OS DEVS\""
      ],
      "metadata": {
        "id": "_Xr0GiLAAH7N"
      }
    },
    {
      "cell_type": "markdown",
      "source": [
        "\n",
        "\n",
        "---\n",
        "\n"
      ],
      "metadata": {
        "id": "7PqWGbnHBOK9"
      }
    },
    {
      "cell_type": "markdown",
      "source": [
        "Equipe :\n",
        "\n",
        "AUGUSTO CESAR - 01595048\n",
        "\n",
        "GABRIEL HENRIQUE LAPA - 01616281\n",
        "\n",
        "LUIS SEVERINO DA SILVA - 01598829\n",
        "\n",
        "MARIA LUIZA -  -01592170"
      ],
      "metadata": {
        "id": "8CZIWEChAKrm"
      }
    },
    {
      "cell_type": "markdown",
      "source": [
        "\n",
        "\n",
        "---\n",
        "\n"
      ],
      "metadata": {
        "id": "tyEAUE69BGBt"
      }
    },
    {
      "cell_type": "markdown",
      "source": [
        "# NOME DO PROJETO"
      ],
      "metadata": {
        "id": "oraMiPhoA9O8"
      }
    },
    {
      "cell_type": "markdown",
      "source": [
        "# Breast Cancer Wisconsin Dataset -"
      ],
      "metadata": {
        "id": "XDf6hd5TAgvG"
      }
    },
    {
      "cell_type": "markdown",
      "source": [
        "\n",
        "\n",
        "---\n",
        "\n"
      ],
      "metadata": {
        "id": "P1fWYeXgAq_t"
      }
    },
    {
      "cell_type": "markdown",
      "source": [
        "# TEMA"
      ],
      "metadata": {
        "id": "X-sUqE2LAtHO"
      }
    },
    {
      "cell_type": "markdown",
      "source": [
        "Nosso projeto prever a classificação de tumores Malignos ou Benignos"
      ],
      "metadata": {
        "id": "r0Vw2q-cAnfW"
      }
    },
    {
      "cell_type": "markdown",
      "source": [
        "# BASE DE DADOS"
      ],
      "metadata": {
        "id": "V0yz77lwCfyd"
      }
    },
    {
      "cell_type": "markdown",
      "source": [
        "\n",
        "\n",
        "---\n",
        "\n"
      ],
      "metadata": {
        "id": "ase6f-uICnFg"
      }
    },
    {
      "cell_type": "markdown",
      "source": [
        "Estamos utilizando o Breast Cancer Wisconsin Dataset. Esse conjunto de dados é amplamente utilizado para tarefas de classificação de tumores em benignos e malignos. Aqui estão algumas informações sobre ele:\n",
        "\n",
        "*Fonte dos Dados: UCI Machine Learning Repository\n",
        "\n",
        "*Número de Instâncias: 569\n",
        "\n",
        "*Número de Atributos: 32 (incluindo o ID e o diagnóstico)\n",
        "\n",
        "*Atributos: Diversas características calculadas a partir de imagens digitalizadas de massas celulares presentes na mama.\n",
        "\n",
        "*Classes: 2 (Maligno, Benigno)\n",
        "\n",
        "Os atributos incluem medidas como o raio médio, a textura média, a área média, entre outras características dos núcleos das células. O objetivo é utilizar essas características para prever se um tumor é maligno ou benigno.\n",
        "\n",
        "* O modelo utilizado para realizar a análise é o algoritmo K-Nearest Neighbors (KNN)"
      ],
      "metadata": {
        "id": "mBjmwlx1C0Sl"
      }
    },
    {
      "cell_type": "markdown",
      "source": [
        "\n",
        "\n",
        "---\n",
        "\n"
      ],
      "metadata": {
        "id": "mBQ1J_RGDDju"
      }
    },
    {
      "cell_type": "markdown",
      "source": [
        "# OBJETIVOS"
      ],
      "metadata": {
        "id": "wjuXHJ2VDEkO"
      }
    },
    {
      "cell_type": "markdown",
      "source": [
        "\n",
        "\n",
        "---\n",
        "\n"
      ],
      "metadata": {
        "id": "5-oR-mQRDKk1"
      }
    },
    {
      "cell_type": "markdown",
      "source": [
        "O objetivo desta análise é treinar e avaliar modelos de classificação para prever se um tumor de mama é maligno ou benigno, com base nas características extraídas das imagens dos núcleos das células presentes na mama. Essa análise é importante por várias razões:\n",
        "\n",
        "1- Diagnóstico Precoce: A detecção precoce de tumores malignos pode aumentar significativamente as chances de tratamento bem-sucedido e recuperação dos pacientes.\n",
        "\n",
        "2- Apoio à Decisão Médica: Modelos de aprendizado de máquina podem auxiliar médicos e especialistas, fornecendo uma segunda opinião baseada em dados históricos e características mensuráveis.\n",
        "\n",
        "3- Automatização: A automação do diagnóstico pode reduzir o tempo e os custos associados ao processo tradicional de detecção e diagnóstico do câncer de mama.\n",
        "\n",
        "4- Precisão e Eficiência: Utilizando algoritmos de classificação, como o KNN, podemos identificar padrões e relações complexas nos dados que podem não ser facilmente percebidos por métodos manuais.\n",
        "\n",
        "5- Avaliação de Modelos: Comparar diferentes configurações de modelos e parâmetros ajuda a identificar quais abordagens são mais eficazes para a tarefa em questão, promovendo avanços na área de aprendizado de máquina aplicada à saúde.\n",
        "\n",
        "Em resumo, essa análise não só contribui para a melhoria da saúde pública e do diagnóstico médico, mas também fornece insights valiosos sobre como modelos de aprendizado de máquina podem ser aplicados em problemas reais."
      ],
      "metadata": {
        "id": "_2xDuqwsDLgu"
      }
    },
    {
      "cell_type": "markdown",
      "source": [
        "\n",
        "\n",
        "---\n",
        "\n"
      ],
      "metadata": {
        "id": "gOLF4AYjDqPH"
      }
    },
    {
      "cell_type": "markdown",
      "source": [
        "# ETAPAS DA MODELAGEM"
      ],
      "metadata": {
        "id": "6kozDIUaDrmd"
      }
    },
    {
      "cell_type": "markdown",
      "source": [
        "\n",
        "\n",
        "---\n",
        "\n"
      ],
      "metadata": {
        "id": "QaPwG6GfEqh-"
      }
    },
    {
      "cell_type": "markdown",
      "source": [
        "**1**. Entendimento dos Dados\n",
        "Descrição do Dataset:\n",
        "\n",
        "Conhecer a origem, o tipo e a estrutura dos dados. No caso do Breast Cancer Wisconsin Dataset, temos características de células tumorais e a classe (maligno/benigno).\n",
        "\n",
        "**2.** Carregamento e Pré-processamento dos Dados\n",
        "Importação dos Dados:\n",
        "\n",
        "Carregar o dataset utilizando bibliotecas como pandas.\n",
        "\n",
        "Tratamento de Dados Faltantes:\n",
        "\n",
        "Verificar e lidar com dados faltantes, se houver. No nosso dataset, não há dados faltantes.\n",
        "\n",
        "Renomeação das Colunas:\n",
        "\n",
        "Garantir que os nomes das colunas sejam descritivos e claros.\n",
        "\n",
        "**3.** Análise Exploratória dos Dados (EDA)\n",
        "Visualização e Estatísticas Descritivas:\n",
        "\n",
        "Utilizar gráficos e estatísticas descritivas para entender a distribuição dos dados e identificar padrões ou anomalias.\n",
        "\n",
        "Correlação entre Variáveis:\n",
        "\n",
        "Analisar a correlação entre as variáveis para identificar quais características são mais relevantes.\n",
        "\n",
        "**4.** Separação dos Dados em Treino e Teste\n",
        "Divisão dos Dados:\n",
        "\n",
        "Utilizar train_test_split para dividir os dados em conjunto de treinamento (70%) e teste (30%), garantindo que a variável de destino (diagnóstico) esteja estratificada.\n",
        "\n",
        "**5.** Escolha e Treinamento do Modelo\n",
        "Seleção do Algoritmo:\n",
        "\n",
        "Escolhemos o K-Nearest Neighbors (KNN) para esta análise.\n",
        "\n",
        "Treinamento do Modelo:\n",
        "\n",
        "Treinar o modelo KNN utilizando o conjunto de treinamento.\n",
        "\n",
        "**6.**Avaliação do Modelo\n",
        "Predição:\n",
        "\n",
        "Utilizar o modelo treinado para fazer previsões no conjunto de teste.\n",
        "\n",
        "Métricas de Avaliação:\n",
        "\n",
        "Calcular a acurácia do modelo, além de outras métricas como precisão, recall e F1-score, se necessário.\n",
        "\n",
        "**7.** Ajuste de Parâmetros e Validação\n",
        "Cross-Validation:\n",
        "\n",
        "Utilizar validação cruzada para garantir que o modelo não esteja superajustado.\n",
        "\n",
        "Tuning de Hiperparâmetros:\n",
        "\n",
        "Ajustar o valor de k e outros hiperparâmetros para melhorar o desempenho.\n",
        "\n",
        "**8.** Análise com Diferentes random_state\n",
        "Diversificação:\n",
        "\n",
        "Repetir os passos de divisão dos dados, treinamento e avaliação com diferentes valores de random_state para garantir a robustez do modelo.\n",
        "\n",
        "**9.** Interpretação dos Resultados\n",
        "Comparação e Conclusões:\n",
        "\n",
        "Comparar as acurácias obtidas com diferentes valores de k e random_state. Identificar a melhor configuração.\n",
        "\n",
        "Documentação:\n",
        "\n",
        "Documentar todas as etapas e resultados em um Notebook (.ipynb), incluindo gráficos e tabelas para visualização.\n",
        "\n",
        "**10.** Comunicação dos Resultados\n",
        "Apresentação:\n",
        "\n",
        "Preparar uma apresentação clara e concisa dos resultados e conclusões, utilizando gráficos e explicações."
      ],
      "metadata": {
        "id": "pVjvwWefErad"
      }
    },
    {
      "cell_type": "code",
      "source": [
        "import pandas as pd\n",
        "\n",
        "# URL do dataset Breast Cancer Wisconsin\n",
        "url = 'https://archive.ics.uci.edu/ml/machine-learning-databases/breast-cancer-wisconsin/wdbc.data'\n",
        "\n",
        "# Nome das colunas\n",
        "column_names = [\n",
        "    'id',\n",
        "    'diagnosis',\n",
        "    'mean_radius', 'mean_texture', 'mean_perimeter', 'mean_area', 'mean_smoothness',\n",
        "    'mean_compactness', 'mean_concavity', 'mean_concave_points', 'mean_symmetry', 'mean_fractal_dimension',\n",
        "    'radius_se', 'texture_se', 'perimeter_se', 'area_se', 'smoothness_se',\n",
        "    'compactness_se', 'concavity_se', 'concave_points_se', 'symmetry_se', 'fractal_dimension_se',\n",
        "    'worst_radius', 'worst_texture', 'worst_perimeter', 'worst_area', 'worst_smoothness',\n",
        "    'worst_compactness', 'worst_concavity', 'worst_concave_points', 'worst_symmetry', 'worst_fractal_dimension'\n",
        "]\n",
        "\n",
        "# Ler o arquivo CSV com as colunas especificadas\n",
        "dados = pd.read_csv(url, names=column_names)\n",
        "\n",
        "# Exibir as primeiras linhas do dataset\n",
        "print(dados.head())\n"
      ],
      "metadata": {
        "colab": {
          "base_uri": "https://localhost:8080/"
        },
        "id": "plbIopRFIEAx",
        "outputId": "3fc8925a-e037-4890-ef0d-b0b87a2ed87d"
      },
      "execution_count": null,
      "outputs": [
        {
          "output_type": "stream",
          "name": "stdout",
          "text": [
            "         id diagnosis  mean_radius  mean_texture  mean_perimeter  mean_area  \\\n",
            "0    842302         M        17.99         10.38          122.80     1001.0   \n",
            "1    842517         M        20.57         17.77          132.90     1326.0   \n",
            "2  84300903         M        19.69         21.25          130.00     1203.0   \n",
            "3  84348301         M        11.42         20.38           77.58      386.1   \n",
            "4  84358402         M        20.29         14.34          135.10     1297.0   \n",
            "\n",
            "   mean_smoothness  mean_compactness  mean_concavity  mean_concave_points  \\\n",
            "0          0.11840           0.27760          0.3001              0.14710   \n",
            "1          0.08474           0.07864          0.0869              0.07017   \n",
            "2          0.10960           0.15990          0.1974              0.12790   \n",
            "3          0.14250           0.28390          0.2414              0.10520   \n",
            "4          0.10030           0.13280          0.1980              0.10430   \n",
            "\n",
            "   ...  worst_radius  worst_texture  worst_perimeter  worst_area  \\\n",
            "0  ...         25.38          17.33           184.60      2019.0   \n",
            "1  ...         24.99          23.41           158.80      1956.0   \n",
            "2  ...         23.57          25.53           152.50      1709.0   \n",
            "3  ...         14.91          26.50            98.87       567.7   \n",
            "4  ...         22.54          16.67           152.20      1575.0   \n",
            "\n",
            "   worst_smoothness  worst_compactness  worst_concavity  worst_concave_points  \\\n",
            "0            0.1622             0.6656           0.7119                0.2654   \n",
            "1            0.1238             0.1866           0.2416                0.1860   \n",
            "2            0.1444             0.4245           0.4504                0.2430   \n",
            "3            0.2098             0.8663           0.6869                0.2575   \n",
            "4            0.1374             0.2050           0.4000                0.1625   \n",
            "\n",
            "   worst_symmetry  worst_fractal_dimension  \n",
            "0          0.4601                  0.11890  \n",
            "1          0.2750                  0.08902  \n",
            "2          0.3613                  0.08758  \n",
            "3          0.6638                  0.17300  \n",
            "4          0.2364                  0.07678  \n",
            "\n",
            "[5 rows x 32 columns]\n"
          ]
        }
      ]
    },
    {
      "cell_type": "markdown",
      "source": [
        "\n",
        "\n",
        "---\n",
        "\n"
      ],
      "metadata": {
        "id": "RV7yos2OGghV"
      }
    },
    {
      "cell_type": "code",
      "source": [
        "from sklearn.model_selection import train_test_split\n",
        "\n",
        "# Selecionar features e target\n",
        "X = dados.drop(columns=['id', 'diagnosis'])\n",
        "y = dados['diagnosis']\n",
        "\n",
        "# Divisão dos dados em treino (70%) e teste (30%)\n",
        "X_train, X_test, y_train, y_test = train_test_split(X, y, test_size=0.3, random_state=42, stratify=y)\n"
      ],
      "metadata": {
        "id": "YT2cfi87IHou"
      },
      "execution_count": null,
      "outputs": []
    },
    {
      "cell_type": "code",
      "source": [
        "from sklearn.neighbors import KNeighborsClassifier\n",
        "from sklearn.metrics import accuracy_score\n",
        "\n",
        "# Classificador KNN com k=3\n",
        "knn3 = KNeighborsClassifier(n_neighbors=3)\n",
        "knn3.fit(X_train, y_train)\n",
        "y_pred_knn3 = knn3.predict(X_test)\n",
        "accuracy_knn3 = accuracy_score(y_test, y_pred_knn3)\n",
        "\n",
        "# Classificador KNN com k=5\n",
        "knn5 = KNeighborsClassifier(n_neighbors=5)\n",
        "knn5.fit(X_train, y_train)\n",
        "y_pred_knn5 = knn5.predict(X_test)\n",
        "accuracy_knn5 = accuracy_score(y_test, y_pred_knn5)\n",
        "\n",
        "print(f'Acurácia com KNN (k=3): {accuracy_knn3:.4f}')\n",
        "print(f'Acurácia com KNN (k=5): {accuracy_knn5:.4f}')\n"
      ],
      "metadata": {
        "colab": {
          "base_uri": "https://localhost:8080/"
        },
        "id": "jHzh6VXGIM-n",
        "outputId": "00d9406e-0309-421e-9a39-ce802060f941"
      },
      "execution_count": null,
      "outputs": [
        {
          "output_type": "stream",
          "name": "stdout",
          "text": [
            "Acurácia com KNN (k=3): 0.9298\n",
            "Acurácia com KNN (k=5): 0.9298\n"
          ]
        }
      ]
    },
    {
      "cell_type": "code",
      "source": [
        "random_states = [17, 24]\n",
        "\n",
        "for rs in random_states:\n",
        "    # Divisão dos dados\n",
        "    X_train, X_test, y_train, y_test = train_test_split(X, y, test_size=0.3, random_state=rs, stratify=y)\n",
        "\n",
        "    # Avaliação KNN com k=3\n",
        "    knn3 = KNeighborsClassifier(n_neighbors=3)\n",
        "    knn3.fit(X_train, y_train)\n",
        "    y_pred_knn3 = knn3.predict(X_test)\n",
        "    accuracy_knn3 = accuracy_score(y_test, y_pred_knn3)\n",
        "\n",
        "    # Avaliação KNN com k=5\n",
        "    knn5 = KNeighborsClassifier(n_neighbors=5)\n",
        "    knn5.fit(X_train, y_train)\n",
        "    y_pred_knn5 = knn5.predict(X_test)\n",
        "    accuracy_knn5 = accuracy_score(y_test, y_pred_knn5)\n",
        "\n",
        "    print(f'Random State: {rs}')\n",
        "    print(f'Acurácia com KNN (k=3): {accuracy_knn3:.4f}')\n",
        "    print(f'Acurácia com KNN (k=5): {accuracy_knn5:.4f}')\n"
      ],
      "metadata": {
        "colab": {
          "base_uri": "https://localhost:8080/"
        },
        "id": "YtK4hRunIS5-",
        "outputId": "43066da9-8167-448a-9911-ae9fff57c339"
      },
      "execution_count": null,
      "outputs": [
        {
          "output_type": "stream",
          "name": "stdout",
          "text": [
            "Random State: 17\n",
            "Acurácia com KNN (k=3): 0.9298\n",
            "Acurácia com KNN (k=5): 0.9240\n",
            "Random State: 24\n",
            "Acurácia com KNN (k=3): 0.9240\n",
            "Acurácia com KNN (k=5): 0.9240\n"
          ]
        }
      ]
    },
    {
      "cell_type": "code",
      "source": [
        "# Treinamento do modelo KNN com k=3\n",
        "knn3 = KNeighborsClassifier(n_neighbors=3)\n",
        "knn3.fit(X_train, y_train)\n",
        "y_pred_knn3 = knn3.predict(X_test)\n",
        "\n",
        "# Comparação dos valores reais e previstos\n",
        "resultados = pd.DataFrame({\n",
        "    'Real': y_test,\n",
        "    'Previsto': y_pred_knn3\n",
        "})\n",
        "\n",
        "print(resultados.head())\n"
      ],
      "metadata": {
        "colab": {
          "base_uri": "https://localhost:8080/"
        },
        "id": "_PR-IWTYIg_V",
        "outputId": "3e8b6b56-c735-4f21-fd6b-bb75090ca456"
      },
      "execution_count": null,
      "outputs": [
        {
          "output_type": "stream",
          "name": "stdout",
          "text": [
            "    Real Previsto\n",
            "317    M        M\n",
            "45     M        M\n",
            "236    M        M\n",
            "12     M        M\n",
            "504    B        B\n"
          ]
        }
      ]
    },
    {
      "cell_type": "markdown",
      "source": [
        "# RESUMO FINAL"
      ],
      "metadata": {
        "id": "ZU6SGxLpGhZd"
      }
    },
    {
      "cell_type": "markdown",
      "source": [
        "Essas etapas são fundamentais para desenvolver um modelo robusto e confiável. Cada passo garante que os dados sejam devidamente preparados, que o modelo seja bem treinado e avaliado, e que os resultados sejam compreensíveis e acionáveis."
      ],
      "metadata": {
        "id": "rUe2plstGp-V"
      }
    },
    {
      "cell_type": "markdown",
      "source": [
        "\n",
        "\n",
        "---\n",
        "\n"
      ],
      "metadata": {
        "id": "0pnZ75o5GuC1"
      }
    }
  ]
}