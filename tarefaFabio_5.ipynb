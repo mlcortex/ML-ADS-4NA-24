{
  "nbformat": 4,
  "nbformat_minor": 0,
  "metadata": {
    "colab": {
      "provenance": []
    },
    "kernelspec": {
      "name": "python3",
      "display_name": "Python 3"
    },
    "language_info": {
      "name": "python"
    }
  },
  "cells": [
    {
      "cell_type": "code",
      "execution_count": 6,
      "metadata": {
        "id": "hL-2zSOLaapf"
      },
      "outputs": [],
      "source": [
        "import pandas as pd\n",
        "from sklearn.preprocessing import MinMaxScaler\n",
        "from sklearn.cluster import KMeans\n",
        "\n",
        "# URL do dataset Wine\n",
        "url = 'https://archive.ics.uci.edu/ml/machine-learning-databases/wine/wine.data'\n",
        "\n",
        "# Nome das colunas em português BR\n",
        "column_names_pt_br = [\n",
        "    'classe',\n",
        "    'alcool',\n",
        "    'acido_malico',\n",
        "    'cinzas',\n",
        "    'alcalinidade_de_cinzas',\n",
        "    'magnesio',\n",
        "    'fenois_totais',\n",
        "    'flavanoides',\n",
        "    'fenois_nao_flavanoides',\n",
        "    'proantocianinas',\n",
        "    'intensidade_de_cor',\n",
        "    'matiz',\n",
        "    'od280_od315_de_vinhos_diluidos',\n",
        "    'prolina'\n",
        "]\n",
        "\n",
        "# Ler o arquivo CSV com as colunas especificadas, definindo a coluna 'classe' como object\n",
        "vinhos = pd.read_csv(url, names=column_names_pt_br, dtype={'classe': object})"
      ]
    },
    {
      "cell_type": "code",
      "source": [
        "# Dropar a coluna 'classe'\n",
        "X = vinhos.drop('classe', axis=1)\n",
        "\n",
        "# Reescala linear dos dados\n",
        "scaler = MinMaxScaler()\n",
        "X_scaled = scaler.fit_transform(X)"
      ],
      "metadata": {
        "id": "HFWLLRkGbicP"
      },
      "execution_count": 3,
      "outputs": []
    },
    {
      "cell_type": "code",
      "source": [
        "# Aplicando K-Means com 4 clusters e random_state=42 para reprodutibilidade\n",
        "kmeans = KMeans(n_clusters=4, random_state=42)\n",
        "kmeans.fit(X_scaled)\n",
        "\n",
        "# Inércia do modelo\n",
        "inertia = kmeans.inertia_\n",
        "\n",
        "# Exibir o valor da inércia\n",
        "print(\"Inércia do modelo:\", inertia)\n"
      ],
      "metadata": {
        "colab": {
          "base_uri": "https://localhost:8080/"
        },
        "id": "4KyXztwgbj90",
        "outputId": "05e23a68-7a9f-4b29-8e4c-7da4bcd34a57"
      },
      "execution_count": 7,
      "outputs": [
        {
          "output_type": "stream",
          "name": "stdout",
          "text": [
            "Inércia do modelo: 44.887604580852816\n"
          ]
        }
      ]
    },
    {
      "cell_type": "code",
      "source": [
        "X_scaled_df = pd.DataFrame(X_scaled, columns=X.columns)\n",
        "\n",
        "# Adicionando os rótulos dos clusters ao DataFrame\n",
        "X_scaled_df['cluster'] = kmeans.labels_\n",
        "\n",
        "# Exibindo a distribuição dos clusters\n",
        "cluster_distribution = X_scaled_df['cluster'].value_counts()\n",
        "\n",
        "# Exibindo a distribuição\n",
        "print(\"Distribuição dos Clusters:\")\n",
        "print(cluster_distribution)\n",
        "\n"
      ],
      "metadata": {
        "colab": {
          "base_uri": "https://localhost:8080/"
        },
        "id": "1RX1mv1PbtBw",
        "outputId": "2c9187ee-291f-4c98-89c8-8493d2a789d7"
      },
      "execution_count": 9,
      "outputs": [
        {
          "output_type": "stream",
          "name": "stdout",
          "text": [
            "Distribuição dos Clusters:\n",
            "cluster\n",
            "2    59\n",
            "1    50\n",
            "0    36\n",
            "3    33\n",
            "Name: count, dtype: int64\n"
          ]
        }
      ]
    },
    {
      "cell_type": "code",
      "source": [
        "# Adicionando a coluna 'classe' ao DataFrame para a comparação\n",
        "X_scaled_df['classe'] = vinhos['classe']\n",
        "\n",
        "# Agrupando pelos clusters e pelas classes originais\n",
        "cluster_class_distribution = X_scaled_df.groupby(['classe', 'cluster']).size().unstack(fill_value=0)\n",
        "\n",
        "# Exibindo a comparação entre as classes originais e os clusters\n",
        "print(\"Distribuição dos Clusters por Classe Original:\")\n",
        "print(cluster_class_distribution)\n"
      ],
      "metadata": {
        "colab": {
          "base_uri": "https://localhost:8080/"
        },
        "id": "7JBblF1pb03x",
        "outputId": "77a2ab03-802a-43aa-ebb8-68f98198ee8f"
      },
      "execution_count": 10,
      "outputs": [
        {
          "output_type": "stream",
          "name": "stdout",
          "text": [
            "Distribuição dos Clusters por Classe Original:\n",
            "cluster   0   1   2   3\n",
            "classe                 \n",
            "1         2   0  57   0\n",
            "2        34   2   2  33\n",
            "3         0  48   0   0\n"
          ]
        }
      ]
    },
    {
      "cell_type": "code",
      "source": [],
      "metadata": {
        "id": "Lal4Si63cG9S"
      },
      "execution_count": null,
      "outputs": []
    }
  ]
}