{
  "nbformat": 4,
  "nbformat_minor": 0,
  "metadata": {
    "colab": {
      "provenance": [],
      "authorship_tag": "ABX9TyPiPBmmzpTVSFHAlXd1mlyg",
      "include_colab_link": true
    },
    "kernelspec": {
      "name": "python3",
      "display_name": "Python 3"
    },
    "language_info": {
      "name": "python"
    }
  },
  "cells": [
    {
      "cell_type": "markdown",
      "metadata": {
        "id": "view-in-github",
        "colab_type": "text"
      },
      "source": [
        "<a href=\"https://colab.research.google.com/github/brunovinimelo/ML-ADS-4NA-24/blob/main/tarefa_1.ipynb\" target=\"_parent\"><img src=\"https://colab.research.google.com/assets/colab-badge.svg\" alt=\"Open In Colab\"/></a>"
      ]
    },
    {
      "cell_type": "code",
      "execution_count": null,
      "metadata": {
        "colab": {
          "base_uri": "https://localhost:8080/"
        },
        "id": "qwoIWgf-9Fcq",
        "outputId": "b019e22a-ac58-4959-8148-c0194394bb53"
      },
      "outputs": [
        {
          "output_type": "stream",
          "name": "stdout",
          "text": [
            "Valor máximo: 8\n",
            "Valor mínimo: 2\n",
            "Média: 4.5\n",
            "Mediana: 4\n",
            "Desvio padrão: 1.7320508075688772\n"
          ]
        }
      ],
      "source": [
        "import numpy as np\n",
        "\n",
        "valores = [4, 6, 3, 4, 5, 8, 4, 2]\n",
        "\n",
        "#ValorMAX\n",
        "valor_maximo = max(valores)\n",
        "\n",
        "#ValorMIN\n",
        "valor_minimo = min(valores)\n",
        "\n",
        "#Média\n",
        "media = sum(valores) / len(valores)\n",
        "\n",
        "#Mediana\n",
        "valores.sort()\n",
        "mediana = valores[len(valores) // 2]\n",
        "\n",
        "#Desvio padrão\n",
        "desvio_padrao = np.std(valores)\n",
        "\n",
        "print(\"Valor máximo:\", valor_maximo)\n",
        "print(\"Valor mínimo:\", valor_minimo)\n",
        "print(\"Média:\", media)\n",
        "print(\"Mediana:\", mediana)\n",
        "print(\"Desvio padrão:\", desvio_padrao)"
      ]
    }
  ]
}