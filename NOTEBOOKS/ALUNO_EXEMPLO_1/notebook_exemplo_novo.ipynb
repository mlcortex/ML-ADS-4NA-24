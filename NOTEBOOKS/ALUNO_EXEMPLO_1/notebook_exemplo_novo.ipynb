{
  "nbformat": 4,
  "nbformat_minor": 0,
  "metadata": {
    "colab": {
      "provenance": []
    },
    "kernelspec": {
      "name": "python3",
      "display_name": "Python 3"
    },
    "language_info": {
      "name": "python"
    }
  },
  "cells": [
    {
      "cell_type": "code",
      "execution_count": 1,
      "metadata": {
        "id": "jTqWEJkc6xr9"
      },
      "outputs": [],
      "source": [
        "v = 1"
      ]
    },
    {
      "cell_type": "code",
      "source": [
        "v\n"
      ],
      "metadata": {
        "colab": {
          "base_uri": "https://localhost:8080/"
        },
        "id": "oKBY9mHA69Dj",
        "outputId": "2841d2d3-ec6a-475d-f2d2-48641995ae6a"
      },
      "execution_count": 2,
      "outputs": [
        {
          "output_type": "execute_result",
          "data": {
            "text/plain": [
              "1"
            ]
          },
          "metadata": {},
          "execution_count": 2
        }
      ]
    },
    {
      "cell_type": "code",
      "source": [
        "v * 2"
      ],
      "metadata": {
        "colab": {
          "base_uri": "https://localhost:8080/"
        },
        "id": "I-kLm_rB7DXg",
        "outputId": "05ae5e74-199b-4a8a-c5a5-2a1611e63e4d"
      },
      "execution_count": 3,
      "outputs": [
        {
          "output_type": "execute_result",
          "data": {
            "text/plain": [
              "2"
            ]
          },
          "metadata": {},
          "execution_count": 3
        }
      ]
    },
    {
      "cell_type": "code",
      "source": [],
      "metadata": {
        "id": "-hSZ-EgY7FhU"
      },
      "execution_count": null,
      "outputs": []
    },
    {
      "cell_type": "markdown",
      "source": [
        "Agora meu valor em 'v'triplicado"
      ],
      "metadata": {
        "id": "05-TO4zG7IPq"
      }
    },
    {
      "cell_type": "code",
      "source": [
        "v * 3"
      ],
      "metadata": {
        "colab": {
          "base_uri": "https://localhost:8080/"
        },
        "id": "Czva9iYC7KiI",
        "outputId": "57cdbef6-3f2d-49de-ac37-530ffff99fbb"
      },
      "execution_count": 4,
      "outputs": [
        {
          "output_type": "execute_result",
          "data": {
            "text/plain": [
              "3"
            ]
          },
          "metadata": {},
          "execution_count": 4
        }
      ]
    },
    {
      "cell_type": "code",
      "source": [],
      "metadata": {
        "colab": {
          "base_uri": "https://localhost:8080/"
        },
        "id": "T1zWLaT67NSR",
        "outputId": "bcdb34fb-ef35-4048-e6a5-23e70a5da10d"
      },
      "execution_count": 6,
      "outputs": [
        {
          "output_type": "stream",
          "name": "stdout",
          "text": [
            "8\n",
            "2\n",
            "4.5\n",
            "4.0\n",
            "1.7320508075688772\n"
          ]
        }
      ]
    },
    {
      "cell_type": "code",
      "source": [],
      "metadata": {
        "id": "anduKfgr75mm"
      },
      "execution_count": null,
      "outputs": []
    }
  ]
}