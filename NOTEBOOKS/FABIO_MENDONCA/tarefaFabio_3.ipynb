{
  "nbformat": 4,
  "nbformat_minor": 0,
  "metadata": {
    "colab": {
      "provenance": []
    },
    "kernelspec": {
      "name": "python3",
      "display_name": "Python 3"
    },
    "language_info": {
      "name": "python"
    }
  },
  "cells": [
    {
      "cell_type": "code",
      "execution_count": 17,
      "metadata": {
        "id": "Bh0yUssKPNrN"
      },
      "outputs": [],
      "source": [
        "import pandas as pd\n",
        "from sklearn.model_selection import train_test_split\n",
        "from sklearn.neighbors import KNeighborsClassifier\n",
        "from sklearn.metrics import accuracy_score\n",
        "\n",
        "\n",
        "# URL do dataset Wine\n",
        "url = 'https://archive.ics.uci.edu/ml/machine-learning-databases/wine/wine.data'\n",
        "\n",
        "# Nome das colunas em português BR\n",
        "column_names_pt_br = [\n",
        "    'classe',\n",
        "    'alcool',\n",
        "    'acido_malico',\n",
        "    'cinzas',\n",
        "    'alcalinidade_de_cinzas',\n",
        "    'magnesio',\n",
        "    'fenois_totais',\n",
        "    'flavanoides',\n",
        "    'fenois_nao_flavanoides',\n",
        "    'proantocianinas',\n",
        "    'intensidade_de_cor',\n",
        "    'matiz',\n",
        "    'od280_od315_de_vinhos_diluidos',\n",
        "    'prolina'\n",
        "]\n",
        "\n",
        "# Ler o arquivo CSV com as colunas especificadas, definindo a coluna 'classe' como object\n",
        "vinhos = pd.read_csv(url, names=column_names_pt_br, dtype={'classe': object})"
      ]
    },
    {
      "cell_type": "code",
      "source": [
        "# Criando um DataFrame de exemplo com os nomes das colunas\n",
        "# Substitua pelos seus dados reais\n",
        "data = {\n",
        "    'classe': [1, 2, 1, 2, 1, 3, 3, 2, 1, 3],\n",
        "    'alcool': [13.2, 12.8, 13.5, 12.7, 14.2, 12.9, 13.7, 12.5, 14.0, 13.1],\n",
        "    'acido_malico': [1.2, 2.4, 1.9, 2.1, 1.3, 2.2, 1.8, 2.3, 1.1, 2.0],\n",
        "    'cinzas': [2.1, 2.3, 2.2, 2.4, 2.0, 2.1, 2.5, 2.3, 2.1, 2.4],\n",
        "    'alcalinidade_de_cinzas': [15, 16, 14, 17, 13, 15, 16, 14, 12, 15],\n",
        "    'magnesio': [100, 102, 98, 101, 95, 99, 103, 96, 97, 100],\n",
        "    'fenois_totais': [2.8, 2.6, 2.9, 2.5, 3.0, 2.7, 3.1, 2.4, 3.2, 2.8],\n",
        "    'flavanoides': [3.1, 2.8, 3.3, 2.7, 3.5, 3.0, 3.6, 2.9, 3.7, 3.2],\n",
        "    'fenois_nao_flavanoides': [0.3, 0.4, 0.3, 0.5, 0.2, 0.3, 0.2, 0.4, 0.1, 0.3],\n",
        "    'proantocianinas': [1.6, 1.7, 1.5, 1.8, 1.4, 1.6, 1.3, 1.7, 1.2, 1.5],\n",
        "    'intensidade_de_cor': [5.1, 4.8, 5.3, 4.7, 5.5, 5.0, 5.6, 4.9, 5.7, 5.2],\n",
        "    'matiz': [1.2, 1.1, 1.3, 1.0, 1.4, 1.2, 1.5, 1.1, 1.6, 1.3],\n",
        "    'od280_od315_de_vinhos_diluidos': [3.0, 2.9, 3.2, 2.8, 3.4, 3.1, 3.5, 2.7, 3.6, 3.3],\n",
        "    'prolina': [750, 800, 720, 810, 690, 770, 850, 730, 880, 760]\n",
        "}\n",
        "df = pd.DataFrame(data, columns=column_names_pt_br)\n",
        "\n",
        "# Separando features (X) e a classe (y)\n",
        "X = df.drop(columns=['classe'])\n",
        "y = df['classe']\n",
        "\n",
        "# Dividindo os dados em treino e teste (70% treino, 30% teste)\n",
        "X_train, X_test, y_train, y_test = train_test_split(X, y, test_size=0.3, random_state=42)\n",
        "\n",
        "# Exibindo os resultados\n",
        "print(\"Tamanho do conjunto de treino:\", X_train.shape)\n",
        "print(\"Tamanho do conjunto de teste:\", X_test.shape)\n",
        "print(\"Primeiros dados de X_train:\\n\", X_train.head())\n"
      ],
      "metadata": {
        "colab": {
          "base_uri": "https://localhost:8080/"
        },
        "id": "XBaJCreAP3kX",
        "outputId": "1f3fe8bb-463b-400b-bd93-fbfda5fb5e2c"
      },
      "execution_count": 12,
      "outputs": [
        {
          "output_type": "stream",
          "name": "stdout",
          "text": [
            "Tamanho do conjunto de treino: (7, 13)\n",
            "Tamanho do conjunto de teste: (3, 13)\n",
            "Primeiros dados de X_train:\n",
            "    alcool  acido_malico  cinzas  alcalinidade_de_cinzas  magnesio  \\\n",
            "0    13.2           1.2     2.1                      15       100   \n",
            "7    12.5           2.3     2.3                      14        96   \n",
            "2    13.5           1.9     2.2                      14        98   \n",
            "9    13.1           2.0     2.4                      15       100   \n",
            "4    14.2           1.3     2.0                      13        95   \n",
            "\n",
            "   fenois_totais  flavanoides  fenois_nao_flavanoides  proantocianinas  \\\n",
            "0            2.8          3.1                     0.3              1.6   \n",
            "7            2.4          2.9                     0.4              1.7   \n",
            "2            2.9          3.3                     0.3              1.5   \n",
            "9            2.8          3.2                     0.3              1.5   \n",
            "4            3.0          3.5                     0.2              1.4   \n",
            "\n",
            "   intensidade_de_cor  matiz  od280_od315_de_vinhos_diluidos  prolina  \n",
            "0                 5.1    1.2                             3.0      750  \n",
            "7                 4.9    1.1                             2.7      730  \n",
            "2                 5.3    1.3                             3.2      720  \n",
            "9                 5.2    1.3                             3.3      760  \n",
            "4                 5.5    1.4                             3.4      690  \n"
          ]
        }
      ]
    },
    {
      "cell_type": "code",
      "source": [
        "# Modelo KNN com k=3\n",
        "knn_k3 = KNeighborsClassifier(n_neighbors=3)\n",
        "knn_k3.fit(X_train, y_train)\n",
        "y_pred_k3 = knn_k3.predict(X_test)\n",
        "accuracy_k3 = accuracy_score(y_test, y_pred_k3)\n",
        "print(f\"Acurácia do modelo KNN com k=3: {accuracy_k3:.2f}\")\n",
        "\n",
        "# Modelo KNN com k=5\n",
        "knn_k5 = KNeighborsClassifier(n_neighbors=5)\n",
        "knn_k5.fit(X_train, y_train)\n",
        "y_pred_k5 = knn_k5.predict(X_test)\n",
        "accuracy_k5 = accuracy_score(y_test, y_pred_k5)\n",
        "print(f\"Acurácia do modelo KNN com k=5: {accuracy_k5:.2f}\")\n",
        "\n",
        "# Comparação dos resultados\n",
        "if accuracy_k3 > accuracy_k5:\n",
        "    print(\"O modelo com k=3 apresenta melhor desempenho.\")\n",
        "elif accuracy_k3 < accuracy_k5:\n",
        "    print(\"O modelo com k=5 apresenta melhor desempenho.\")\n",
        "else:\n",
        "    print(\"Ambos os modelos apresentam a mesma acurácia.\")\n"
      ],
      "metadata": {
        "colab": {
          "base_uri": "https://localhost:8080/"
        },
        "id": "P2ht11_jP8_j",
        "outputId": "b2a43960-7391-4bf8-a20a-37261e2610e5"
      },
      "execution_count": 13,
      "outputs": [
        {
          "output_type": "stream",
          "name": "stdout",
          "text": [
            "Acurácia do modelo KNN com k=3: 0.00\n",
            "Acurácia do modelo KNN com k=5: 0.33\n",
            "O modelo com k=5 apresenta melhor desempenho.\n"
          ]
        }
      ]
    },
    {
      "cell_type": "code",
      "source": [
        "# Função para realizar o experimento\n",
        "def executar_experimento(random_state):\n",
        "    # Divisão dos dados\n",
        "    X_train, X_test, y_train, y_test = train_test_split(\n",
        "        X, y, test_size=0.3, random_state=random_state\n",
        "    )\n",
        "\n",
        "    # Modelo KNN com k=3\n",
        "    knn_k3 = KNeighborsClassifier(n_neighbors=3)\n",
        "    knn_k3.fit(X_train, y_train)\n",
        "    y_pred_k3 = knn_k3.predict(X_test)\n",
        "    accuracy_k3 = accuracy_score(y_test, y_pred_k3)\n",
        "\n",
        "    # Modelo KNN com k=5\n",
        "    knn_k5 = KNeighborsClassifier(n_neighbors=5)\n",
        "    knn_k5.fit(X_train, y_train)\n",
        "    y_pred_k5 = knn_k5.predict(X_test)\n",
        "    accuracy_k5 = accuracy_score(y_test, y_pred_k5)\n",
        "\n",
        "    # Resultados\n",
        "    print(f\"\\nRandom State: {random_state}\")\n",
        "    print(f\"Acurácia com KNN (k=3): {accuracy_k3:.2f}\")\n",
        "    print(f\"Acurácia com KNN (k=5): {accuracy_k5:.2f}\")\n",
        "\n",
        "    # Comparação dos resultados\n",
        "    if accuracy_k3 > accuracy_k5:\n",
        "        print(\"Melhor desempenho: KNN com k=3\")\n",
        "    elif accuracy_k3 < accuracy_k5:\n",
        "        print(\"Melhor desempenho: KNN com k=5\")\n",
        "    else:\n",
        "        print(\"Ambos os modelos apresentam a mesma acurácia.\")\n",
        "\n",
        "    return accuracy_k3, accuracy_k5\n",
        "\n",
        "# Executando para diferentes random_state\n",
        "resultados = {}\n",
        "for rs in [42, 17, 24]:\n",
        "    resultados[rs] = executar_experimento(rs)\n",
        "\n",
        "# Resumo final\n",
        "print(\"\\nResumo das Acurácias:\")\n",
        "for rs, (acc_k3, acc_k5) in resultados.items():\n",
        "    print(f\"Random State {rs}: KNN (k=3) = {acc_k3:.2f}, KNN (k=5) = {acc_k5:.2f}\")\n"
      ],
      "metadata": {
        "colab": {
          "base_uri": "https://localhost:8080/"
        },
        "id": "z5NyB2WPVg6J",
        "outputId": "1711ad61-0789-4dc1-d012-70ada2636d1d"
      },
      "execution_count": 15,
      "outputs": [
        {
          "output_type": "stream",
          "name": "stdout",
          "text": [
            "\n",
            "Random State: 42\n",
            "Acurácia com KNN (k=3): 0.00\n",
            "Acurácia com KNN (k=5): 0.33\n",
            "Melhor desempenho: KNN com k=5\n",
            "\n",
            "Random State: 17\n",
            "Acurácia com KNN (k=3): 0.33\n",
            "Acurácia com KNN (k=5): 0.33\n",
            "Ambos os modelos apresentam a mesma acurácia.\n",
            "\n",
            "Random State: 24\n",
            "Acurácia com KNN (k=3): 0.33\n",
            "Acurácia com KNN (k=5): 0.33\n",
            "Ambos os modelos apresentam a mesma acurácia.\n",
            "\n",
            "Resumo das Acurácias:\n",
            "Random State 42: KNN (k=3) = 0.00, KNN (k=5) = 0.33\n",
            "Random State 17: KNN (k=3) = 0.33, KNN (k=5) = 0.33\n",
            "Random State 24: KNN (k=3) = 0.33, KNN (k=5) = 0.33\n"
          ]
        }
      ]
    },
    {
      "cell_type": "code",
      "source": [
        "# Função para realizar o experimento\n",
        "def executar_experimento(random_state):\n",
        "    # Divisão dos dados\n",
        "    X_train, X_test, y_train, y_test = train_test_split(\n",
        "        X, y, test_size=0.3, random_state=random_state\n",
        "    )\n",
        "\n",
        "    # Modelo KNN com k=3\n",
        "    knn_k3 = KNeighborsClassifier(n_neighbors=3)\n",
        "    knn_k3.fit(X_train, y_train)\n",
        "    y_pred_k3 = knn_k3.predict(X_test)\n",
        "    accuracy_k3 = accuracy_score(y_test, y_pred_k3)\n",
        "\n",
        "    # Modelo KNN com k=5\n",
        "    knn_k5 = KNeighborsClassifier(n_neighbors=5)\n",
        "    knn_k5.fit(X_train, y_train)\n",
        "    y_pred_k5 = knn_k5.predict(X_test)\n",
        "    accuracy_k5 = accuracy_score(y_test, y_pred_k5)\n",
        "\n",
        "    # Resultados\n",
        "    print(f\"\\nRandom State: {random_state}\")\n",
        "    print(f\"Acurácia com KNN (k=3): {accuracy_k3:.2f}\")\n",
        "    print(f\"Acurácia com KNN (k=5): {accuracy_k5:.2f}\")\n",
        "\n",
        "    # Comparação dos resultados\n",
        "    if accuracy_k3 > accuracy_k5:\n",
        "        print(\"Melhor desempenho: KNN com k=3\")\n",
        "    elif accuracy_k3 < accuracy_k5:\n",
        "        print(\"Melhor desempenho: KNN com k=5\")\n",
        "    else:\n",
        "        print(\"Ambos os modelos apresentam a mesma acurácia.\")\n",
        "\n",
        "    return accuracy_k3, accuracy_k5\n",
        "\n",
        "# Executando para diferentes random_state\n",
        "resultados = {}\n",
        "for rs in [42, 17, 24]:\n",
        "    resultados[rs] = executar_experimento(rs)\n",
        "\n",
        "# Resumo final e análise comparativa\n",
        "melhor_random_state = None\n",
        "melhor_k = None\n",
        "melhor_acuracia = 0\n",
        "\n",
        "print(\"\\nResumo das Acurácias:\")\n",
        "for rs, (acc_k3, acc_k5) in resultados.items():\n",
        "    print(f\"Random State {rs}: KNN (k=3) = {acc_k3:.2f}, KNN (k=5) = {acc_k5:.2f}\")\n",
        "\n",
        "    # Avaliando o melhor desempenho\n",
        "    if acc_k3 > melhor_acuracia:\n",
        "        melhor_acuracia = acc_k3\n",
        "        melhor_random_state = rs\n",
        "        melhor_k = 3\n",
        "    if acc_k5 > melhor_acuracia:\n",
        "        melhor_acuracia = acc_k5\n",
        "        melhor_random_state = rs\n",
        "        melhor_k = 5\n",
        "\n",
        "# Melhor configuração\n",
        "print(\"\\nMelhor Configuração:\")\n",
        "print(f\"Random State: {melhor_random_state}, k = {melhor_k}, Acurácia = {melhor_acuracia:.2f}\")\n"
      ],
      "metadata": {
        "colab": {
          "base_uri": "https://localhost:8080/"
        },
        "id": "0B3kSzeGXdQf",
        "outputId": "361b6f00-2625-481b-982f-cabbdb9bb89c"
      },
      "execution_count": 16,
      "outputs": [
        {
          "output_type": "stream",
          "name": "stdout",
          "text": [
            "\n",
            "Random State: 42\n",
            "Acurácia com KNN (k=3): 0.00\n",
            "Acurácia com KNN (k=5): 0.33\n",
            "Melhor desempenho: KNN com k=5\n",
            "\n",
            "Random State: 17\n",
            "Acurácia com KNN (k=3): 0.33\n",
            "Acurácia com KNN (k=5): 0.33\n",
            "Ambos os modelos apresentam a mesma acurácia.\n",
            "\n",
            "Random State: 24\n",
            "Acurácia com KNN (k=3): 0.33\n",
            "Acurácia com KNN (k=5): 0.33\n",
            "Ambos os modelos apresentam a mesma acurácia.\n",
            "\n",
            "Resumo das Acurácias:\n",
            "Random State 42: KNN (k=3) = 0.00, KNN (k=5) = 0.33\n",
            "Random State 17: KNN (k=3) = 0.33, KNN (k=5) = 0.33\n",
            "Random State 24: KNN (k=3) = 0.33, KNN (k=5) = 0.33\n",
            "\n",
            "Melhor Configuração:\n",
            "Random State: 42, k = 5, Acurácia = 0.33\n"
          ]
        }
      ]
    }
  ]
}