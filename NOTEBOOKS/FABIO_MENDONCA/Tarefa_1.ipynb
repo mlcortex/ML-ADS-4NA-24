{
 "cells": [
  {
   "cell_type": "code",
   "execution_count": 18,
   "metadata": {},
   "outputs": [],
   "source": [
    "import numpy as np\n",
    "import statistics as st\n",
    "import pandas as pd"
   ]
  },
  {
   "cell_type": "code",
   "execution_count": null,
   "metadata": {},
   "outputs": [],
   "source": [
    "#Fabio Mendonça dos Santos - 01575972\n",
    "\n",
    "valores = [4, 6, 3, 4, 5, 8, 4, 2]\n",
    "df = pd.DataFrame({\n",
    "    'Valores' : valores\n",
    "}\n",
    ")\n",
    "print(df)"
   ]
  },
  {
   "cell_type": "code",
   "execution_count": 25,
   "metadata": {},
   "outputs": [
    {
     "name": "stdout",
     "output_type": "stream",
     "text": [
      "O número com maior valor é: 8\n"
     ]
    }
   ],
   "source": [
    "max_value = df['Valores'].max()\n",
    "print(\"O número com maior valor é:\", max_value)"
   ]
  },
  {
   "cell_type": "code",
   "execution_count": 26,
   "metadata": {},
   "outputs": [
    {
     "name": "stdout",
     "output_type": "stream",
     "text": [
      "O número com menor valor é: 2\n"
     ]
    }
   ],
   "source": [
    "minor_value = df['Valores'].min()\n",
    "print(\"O número com menor valor é:\", minor_value)"
   ]
  },
  {
   "cell_type": "code",
   "execution_count": null,
   "metadata": {},
   "outputs": [],
   "source": [
    "media_arit = np.mean(valores)\n",
    "print(\"A média aritmética é:\", media_arit)"
   ]
  },
  {
   "cell_type": "code",
   "execution_count": null,
   "metadata": {},
   "outputs": [],
   "source": [
    "mediana_num = np.median(valores)\n",
    "print(\"A mediana é:\", mediana_num)"
   ]
  },
  {
   "cell_type": "code",
   "execution_count": null,
   "metadata": {},
   "outputs": [],
   "source": [
    "desvio_padrao = st.stdev(valores)\n",
    "print(\"O desvio padrão é\", desvio_padrao)"
   ]
  }
 ],
 "metadata": {
  "kernelspec": {
   "display_name": "base",
   "language": "python",
   "name": "python3"
  },
  "language_info": {
   "codemirror_mode": {
    "name": "ipython",
    "version": 3
   },
   "file_extension": ".py",
   "mimetype": "text/x-python",
   "name": "python",
   "nbconvert_exporter": "python",
   "pygments_lexer": "ipython3",
   "version": "3.12.4"
  }
 },
 "nbformat": 4,
 "nbformat_minor": 2
}
