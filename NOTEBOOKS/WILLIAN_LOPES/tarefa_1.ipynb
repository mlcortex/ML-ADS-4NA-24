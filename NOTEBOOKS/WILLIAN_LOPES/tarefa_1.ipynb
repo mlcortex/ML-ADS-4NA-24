{
 "cells": [
  {
   "cell_type": "markdown",
   "id": "991eb7b0-5365-4e11-8e9a-f481255c6c51",
   "metadata": {},
   "source": [
    "\n",
    "<h1>Sobre a atividade: </h1>\n",
    "\n",
    "**O professor Miguel pediu para criarmos um código que pudesse retornar os seguintes dados:**\n",
    "\n",
    "1. Valor máximo\n",
    "2. Valor mínimo\n",
    "3. Média aritimética\n",
    "4. Mediana dos valores\n",
    "5. Desvio padrão dos valores\n",
    "---"
   ]
  },
  {
   "cell_type": "markdown",
   "id": "1ea8ca31-a3b5-427d-affb-dae13b49e7fc",
   "metadata": {},
   "source": [
    "**Informações relevantes:**\n",
    "<p>Os dados fornecidos pelo professor Miguel para a realização da atividade, estão orginalmente em Python. Mas para a execução deste trabalho, será convertido em C#, que será a linguagem usada.</p>\n",
    "\n",
    "**Dados:**\n",
    "\n",
    "valores = [4, 6, 3, 4, 5, 8, 4, 2]\n",
    "\n",
    "---"
   ]
  },
  {
   "cell_type": "markdown",
   "id": "dcdec750-6fea-4e1a-a016-5fdc2a380b5a",
   "metadata": {},
   "source": [
    "\n",
    "<p>Para iniciar a atividade, comecei iniciando a lista com os valores fornecidos e declarando as variáveis.</p>"
   ]
  },
  {
   "cell_type": "code",
   "execution_count": 1,
   "id": "f03985b1-e838-41cb-b214-e982b01268f9",
   "metadata": {},
   "outputs": [
    {
     "data": {
      "text/html": [
       "\r\n",
       "<div>\r\n",
       "    <div id='dotnet-interactive-this-cell-2612.Microsoft.DotNet.Interactive.Http.HttpPort' style='display: none'>\r\n",
       "        The below script needs to be able to find the current output cell; this is an easy method to get it.\r\n",
       "    </div>\r\n",
       "    <script type='text/javascript'>\r\n",
       "async function probeAddresses(probingAddresses) {\r\n",
       "    function timeout(ms, promise) {\r\n",
       "        return new Promise(function (resolve, reject) {\r\n",
       "            setTimeout(function () {\r\n",
       "                reject(new Error('timeout'))\r\n",
       "            }, ms)\r\n",
       "            promise.then(resolve, reject)\r\n",
       "        })\r\n",
       "    }\r\n",
       "\r\n",
       "    if (Array.isArray(probingAddresses)) {\r\n",
       "        for (let i = 0; i < probingAddresses.length; i++) {\r\n",
       "\r\n",
       "            let rootUrl = probingAddresses[i];\r\n",
       "\r\n",
       "            if (!rootUrl.endsWith('/')) {\r\n",
       "                rootUrl = `${rootUrl}/`;\r\n",
       "            }\r\n",
       "\r\n",
       "            try {\r\n",
       "                let response = await timeout(1000, fetch(`${rootUrl}discovery`, {\r\n",
       "                    method: 'POST',\r\n",
       "                    cache: 'no-cache',\r\n",
       "                    mode: 'cors',\r\n",
       "                    timeout: 1000,\r\n",
       "                    headers: {\r\n",
       "                        'Content-Type': 'text/plain'\r\n",
       "                    },\r\n",
       "                    body: probingAddresses[i]\r\n",
       "                }));\r\n",
       "\r\n",
       "                if (response.status == 200) {\r\n",
       "                    return rootUrl;\r\n",
       "                }\r\n",
       "            }\r\n",
       "            catch (e) { }\r\n",
       "        }\r\n",
       "    }\r\n",
       "}\r\n",
       "\r\n",
       "function loadDotnetInteractiveApi() {\r\n",
       "    probeAddresses([\"http://192.168.0.199:2048/\", \"http://127.0.0.1:2048/\"])\r\n",
       "        .then((root) => {\r\n",
       "        // use probing to find host url and api resources\r\n",
       "        // load interactive helpers and language services\r\n",
       "        let dotnetInteractiveRequire = require.config({\r\n",
       "        context: '2612.Microsoft.DotNet.Interactive.Http.HttpPort',\r\n",
       "                paths:\r\n",
       "            {\r\n",
       "                'dotnet-interactive': `${root}resources`\r\n",
       "                }\r\n",
       "        }) || require;\r\n",
       "\r\n",
       "            window.dotnetInteractiveRequire = dotnetInteractiveRequire;\r\n",
       "\r\n",
       "            window.configureRequireFromExtension = function(extensionName, extensionCacheBuster) {\r\n",
       "                let paths = {};\r\n",
       "                paths[extensionName] = `${root}extensions/${extensionName}/resources/`;\r\n",
       "                \r\n",
       "                let internalRequire = require.config({\r\n",
       "                    context: extensionCacheBuster,\r\n",
       "                    paths: paths,\r\n",
       "                    urlArgs: `cacheBuster=${extensionCacheBuster}`\r\n",
       "                    }) || require;\r\n",
       "\r\n",
       "                return internalRequire\r\n",
       "            };\r\n",
       "        \r\n",
       "            dotnetInteractiveRequire([\r\n",
       "                    'dotnet-interactive/dotnet-interactive'\r\n",
       "                ],\r\n",
       "                function (dotnet) {\r\n",
       "                    dotnet.init(window);\r\n",
       "                },\r\n",
       "                function (error) {\r\n",
       "                    console.log(error);\r\n",
       "                }\r\n",
       "            );\r\n",
       "        })\r\n",
       "        .catch(error => {console.log(error);});\r\n",
       "    }\r\n",
       "\r\n",
       "// ensure `require` is available globally\r\n",
       "if ((typeof(require) !==  typeof(Function)) || (typeof(require.config) !== typeof(Function))) {\r\n",
       "    let require_script = document.createElement('script');\r\n",
       "    require_script.setAttribute('src', 'https://cdnjs.cloudflare.com/ajax/libs/require.js/2.3.6/require.min.js');\r\n",
       "    require_script.setAttribute('type', 'text/javascript');\r\n",
       "    \r\n",
       "    \r\n",
       "    require_script.onload = function() {\r\n",
       "        loadDotnetInteractiveApi();\r\n",
       "    };\r\n",
       "\r\n",
       "    document.getElementsByTagName('head')[0].appendChild(require_script);\r\n",
       "}\r\n",
       "else {\r\n",
       "    loadDotnetInteractiveApi();\r\n",
       "}\r\n",
       "\r\n",
       "    </script>\r\n",
       "</div>"
      ]
     },
     "metadata": {},
     "output_type": "display_data"
    }
   ],
   "source": [
    " List<int> Valores = new List<int> { 4, 6, 3, 4, 5, 8, 4, 2 }; \n",
    "\n",
    " int valorMax = Valores.Max();\n",
    " int valorMin = Valores.Min();\n",
    " double media = Valores.Average();"
   ]
  },
  {
   "cell_type": "markdown",
   "id": "d2a77e0f-060e-40f9-b3de-a7825facdc37",
   "metadata": {},
   "source": [
    "<p>No código acima, é possível notar que as variáveis estão recebendo dados da lista \"Valores\" com a ajuda de alguns métodos, sendo eles: </p>\n",
    "\n",
    "**Max():** O método Max() retorna o maior valor da lista \"Valores\".\n",
    "\n",
    "**Min():** O método Min() retorna o menor valor da lista \"Valores\".\n",
    "\n",
    "**Average():** O método Average() retorna a média entre os valores da lista \"Valores\".\n",
    "\n",
    "*Todos esses métodos fazem parte do **LINQ** (Language Integrad Query), que ainda estou estudando, mas decidi implementar pra facilitar minha vida*\n",
    "\n",
    "---"
   ]
  },
  {
   "cell_type": "code",
   "execution_count": null,
   "id": "760861e0-b983-4b89-834a-35c84121d5c2",
   "metadata": {},
   "outputs": [],
   "source": [
    "Console.WriteLine($\"O valor máximo é {valorMax}, o mínimo é {valorMin} e a média é {media:F2}\");"
   ]
  },
  {
   "cell_type": "markdown",
   "id": "71677396-5d38-41e4-a4cc-e4edbdfb4c36",
   "metadata": {},
   "source": [
    "O código acima vai imprimir os valores das variáveis usando o princípio da **Interpolação**, com destaque para formatação na variável \"media\", que irá imprimir números com no máximo duas casa decimais.\n",
    "\n",
    "---"
   ]
  },
  {
   "cell_type": "code",
   "execution_count": 3,
   "id": "caf96716-f381-4a68-9159-d7c5f12eb492",
   "metadata": {
    "scrolled": true
   },
   "outputs": [],
   "source": [
    "var ListOrder = Valores.OrderBy(n => n).ToList();\n",
    "\n",
    "int count = ListOrder.Count();"
   ]
  },
  {
   "cell_type": "markdown",
   "id": "b5c3093b-2453-426a-9eca-0351df12e81c",
   "metadata": {},
   "source": [
    "Nessa parte do código, criei uma variável chamada ListOrder que irá receber os valores da lista em ordem crescente através do metódo \"**orderBy()**\", e depois será tranformada no tipo \"list\", através do método \"**ToList()**\". Após isso, também declaramos uma variável count, que receberá o valor que representa quantidade total de elementos dentro da nossa lista.\n",
    "\n",
    "---"
   ]
  },
  {
   "cell_type": "code",
   "execution_count": null,
   "id": "d66cabd8-f0df-4e14-aa57-33095c3d679e",
   "metadata": {},
   "outputs": [],
   "source": [
    "foreach (int i in ListOrder) {\n",
    "    Console.Write($\" {i}\");\n",
    "}"
   ]
  },
  {
   "cell_type": "markdown",
   "id": "38ff966b-20d1-4d78-897c-327d0fe09eaf",
   "metadata": {},
   "source": [
    "Aqui usei um **foreach** apenas para exibir lista organizada em ordem crescente.\n",
    "\n",
    "---"
   ]
  },
  {
   "cell_type": "markdown",
   "id": "f1419295-841a-48e2-a1b1-e7346765c01c",
   "metadata": {},
   "source": [
    "### Cálculo Mediana"
   ]
  },
  {
   "cell_type": "markdown",
   "id": "c2d1186d-08b4-40f7-8d69-ac2b868561aa",
   "metadata": {},
   "source": [
    "Essa parte do código foi um pouco complicada de fazer, precisei ver vídeos para tentar entender a lógica por trás do cálculo.\n",
    "\n",
    "**Vamos lá...**\n",
    "\n",
    "Esse trecho do código começa com a *inicialização direta* da variável \"mediana\", onde eu uso operadores ternários **(? :)** para fazer a lógica do calculo.\n",
    "\n",
    "**Funciona assim:**\n",
    "\n",
    "Para sabermos a mediana dos números na nossa Lista, precisamos saber quantos elementos ela possui. Como já criamos uma variável que armazena a quantidade de números nela, basta chamar essa variável e dividi-la por 2; se o resto for igual a 0, sabemos que a quantidade de elementos dentro da nossa lista corresponde a um número par, caso contrário, concluímos que é um número ímpar.\n",
    "\n",
    "**Código:**\n"
   ]
  },
  {
   "cell_type": "code",
   "execution_count": null,
   "id": "077d4d86-d7e3-4761-b990-46767b7d3ac6",
   "metadata": {},
   "outputs": [],
   "source": [
    "double mediana = (count % 2 == 0) ?\n",
    "    (ListOrder[count / 2 - 1] + ListOrder[count / 2]) / 2.0 :\n",
    "     ListOrder[count / 2];\n",
    "Console.WriteLine($\"Mediana: {mediana}\");"
   ]
  },
  {
   "cell_type": "markdown",
   "id": "2fe2fbac-a418-422a-a2ea-34d5b4bffb3e",
   "metadata": {},
   "source": [
    "**Inicialização:**\n",
    "Como dito anteriormente, usamos o princípio da \"Inicialização Direta\", onde a variável \"mediana\" é inicializada com o resultado de um expressão ternária.\n",
    "\n",
    "**Operador Ternário:**\n",
    "O operador ternário **(? :)** tem uma lógica parecida com o **if/else**, onde ele toma decisões com base em uma condição.\n",
    "Podemos ver o operador agindo no código acima, onde ele verifica se(?) o valor da expressão **[count % 2 == 0]** é verdadeiro. Ser for verdadeiro, ele vai executar o código que vem a seguir **[ListOrder[count / 2 - 1] + ListOrder[count / 2]]**, senao(:) ele passa para o código seguinte: **[ ListOrder[count / 2]]**.\n",
    "\n",
    "**Cálculos:** \n",
    "Se o resultado lógico do nosso **count** for par, a mediana é o resultado da divisão por 2; dos dois números do meio, mas se for ímpar, a mediana é o número central da lista.\n",
    "\n",
    "**Funcionamento do código:**\n",
    "Com a base de números que o professor Miguel forneceu, sabemos que a quantidade de números dentro da lista é 8, sabendo disso; podemos concluir que o valor dentro de count também é 8, logo, o resultado da expressão ternária será **par**. Sendo assim, ela executará esse código: **ListOrder[count / 2 - 1] + ListOrder[count / 2]**.\n",
    "\n",
    "A princípio o código pode parecer difícil de compreender como foi para mim, mas com um pouco de atenção conseguimos entender.  \n",
    "\n",
    "**ListOrder** é a nossa lista ordenada e o **[count / 2 - 1]** nada mais é que **8 / 2 - 1** cujo resultado determinará a posição do elemento dentro da nossa lista. Sendo assim, podemos dizer que esse código é o mesmo que **ListOrder[3]**; em outras palavras, ele irá buscar o elemento na posição [3] dentro da nossa lista. Isso significa que se a ordem da nossa lista já organizada é assim: **2 3 4 4 4 5 6 8**, então o elemento da posição [3] é o número **4**. Vale lembrar que nessa primeira parte do código subtraimos com o número 1, porque a lista inicia na posição **ZERO**, ja ná segunda parte do código não se faz necessário subtrair um número, pois ja vai estar na posição correta.\n",
    "\n",
    "**Se o COUNT for ímpar:**\n",
    "Se o valor de **count** for um valor ímpar, significa que o código vai pular a parte descrita acima e vai executar o que vem a seguir: \n",
    "\n",
    "**ListOrder[count / 2]**\n",
    "\n",
    "Essa parte do código é muito simples de entender, ele vai pegar o valor do count e subtrair por 2, onde o resultado será a posição exata do número central da nossa lista. Dessa forma teremos nossa mediana.\n",
    "\n",
    "---"
   ]
  },
  {
   "cell_type": "markdown",
   "id": "84a08562-6368-41fa-9096-cb095440ae75",
   "metadata": {},
   "source": [
    "# Desvio Padrão"
   ]
  },
  {
   "cell_type": "markdown",
   "id": "2eaf1689-8e59-4780-b30a-3fc76f8ec6e4",
   "metadata": {},
   "source": [
    "Para calcular o **desvio padrão** primeiro temos que calcular a variância, para isso usamos a fórmula: **s² = Σ(xi - x̄)² / (n - 1)**.\n",
    "Vale ressaltar que a fórmula usada é a da variância **amostral**. Durante as pesquisas que eu fiz eu notei uma certa inconsistência no cálculo da variância, em uns vídeos o cálculo era ensinado de uma forma, em outros, de outras formas. Levou um tempo até eu descobrir sobre a variância **amostral** e **populacional**. Como não fora especificado no trabalho qual tipo de variância usar para encontrar o desvio padrão, optei pela variância **amostral**, mas deixo claro que a populacional foi considerada e chegou a ser testada."
   ]
  },
  {
   "cell_type": "markdown",
   "id": "cfb0a34a-c917-472f-8479-7657959dcd2b",
   "metadata": {},
   "source": [
    "**Código:**"
   ]
  },
  {
   "cell_type": "code",
   "execution_count": 8,
   "id": "b5f8e34c-c844-454a-b237-8a293533b952",
   "metadata": {},
   "outputs": [],
   "source": [
    "double Variancia = ListOrder.Sum(v => Math.Pow(v - media, 2.0) / (count - 1.0));\n",
    "double desvioPadrao = Math.Sqrt(Variancia);"
   ]
  },
  {
   "cell_type": "markdown",
   "id": "a0be77aa-352b-4b83-becc-0ec7ea952f37",
   "metadata": {},
   "source": [
    "No código acima, podemos ver a fórmula do cálculo da variância amostral convertida em código, onde usamos o método **Sum()** para fazer a soma e a função **Math.Pow()** que vai elevar ao quadrado a diferença da média para cada elemento da nossa lista (v - media). Após isso, dividimos a soma das diferenças ao quadrado pela quantidade de elementos menos um (count - 1).\n",
    "\n",
    "Já a variável **desvioPadrao** recebe o método **Sqrt()** da função **Math**, que vai retornar a raiz quadrada de **Variância**.\n"
   ]
  },
  {
   "cell_type": "markdown",
   "id": "c3744268-c4f4-46c6-a44e-05356efd2689",
   "metadata": {},
   "source": [
    "Por fim, imprimimos na tela o resultado do desvio padrão."
   ]
  },
  {
   "cell_type": "code",
   "execution_count": null,
   "id": "2aa79cc0-0404-4d38-baea-040a8b06d3a6",
   "metadata": {},
   "outputs": [],
   "source": [
    "Console.WriteLine($\"Desvio Padrão: {desvioPadrao:F2}\");"
   ]
  },
  {
   "cell_type": "markdown",
   "id": "621e94ba-1bfd-4fe9-8942-1fe01240071b",
   "metadata": {},
   "source": [
    "---"
   ]
  }
 ],
 "metadata": {
  "kernelspec": {
   "display_name": ".NET (C#)",
   "language": "C#",
   "name": ".net-csharp"
  },
  "language_info": {
   "file_extension": ".cs",
   "mimetype": "text/x-csharp",
   "name": "C#",
   "pygments_lexer": "csharp",
   "version": "12.0"
  }
 },
 "nbformat": 4,
 "nbformat_minor": 5
}
