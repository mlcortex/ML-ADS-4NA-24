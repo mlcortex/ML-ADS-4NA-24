{
  "nbformat": 4,
  "nbformat_minor": 0,
  "metadata": {
    "colab": {
      "provenance": []
    },
    "kernelspec": {
      "name": "python3",
      "display_name": "Python 3"
    },
    "language_info": {
      "name": "python"
    }
  },
  "cells": [
    {
      "cell_type": "markdown",
      "source": [
        "#Exercício 1\n",
        "\n",
        "Para a seguinte lista de números = [4, 6, 3, 4, 5, 8, 4, 2]\n",
        "\n",
        "\n",
        "Crie um notebook que apresente as seguintes informações sobre a lista:\n",
        "\n",
        "\n",
        "*   Valor Máximo,\n",
        "*   Valor Mínimo,\n",
        "*   Média aritmética dos valores\n",
        "*   Mediana dos valores\n",
        "*   Desvio padrão dos valores.\n",
        "\n",
        "O arquivo deve conter o nome tarefa_1.ipynb. Envie o arquivo na sua respectiva pasta em NOTEBOOKS.\n",
        "\n",
        "\n",
        "\n"
      ],
      "metadata": {
        "id": "eU_kPGgkWZEw"
      }
    },
    {
      "cell_type": "code",
      "execution_count": null,
      "metadata": {
        "colab": {
          "base_uri": "https://localhost:8080/"
        },
        "id": "d0Kg50AaWXwy",
        "outputId": "7f684782-eee3-4575-8eaa-ab962f7506a6"
      },
      "outputs": [
        {
          "output_type": "stream",
          "name": "stdout",
          "text": [
            "8\n",
            "2\n",
            "4.5\n",
            "4\n",
            "1.7320508075688772\n"
          ]
        }
      ],
      "source": [
        "lista = [4, 6, 3, 4, 5, 8, 4, 2]\n",
        "\n",
        "valor_Maximo = max(lista)\n",
        "print(valor_Maximo)\n",
        "\n",
        "valor_Minimo = min(lista)\n",
        "print(valor_Minimo)\n",
        "\n",
        "media = sum(lista)/len(lista)\n",
        "print(media)\n",
        "\n",
        "mediana = sorted(lista)[len(lista) // 2]\n",
        "print(mediana)\n",
        "\n",
        "desvio_Padrao = (sum((x - media) ** 2 for x in lista) / len(lista)) ** 0.5\n",
        "print(desvio_Padrao)"
      ]
    },
    {
      "cell_type": "code",
      "execution_count": null,
      "metadata": {
        "id": "WVTS7m60bGlm"
      },
      "outputs": [],
      "source": [
        "lista = [4, 6, 3, 4, 5, 8, 4, 2]\n",
        "\n",
        "# max, min, sum = função built-in (função embutida ao python) retorna o número máximo, minimo e a média respectivamente\n",
        "\n",
        "valor_Maximo = max(lista)\n",
        "print(valor_Maximo)\n",
        "\n",
        "valor_Minimo = min(lista)\n",
        "print(valor_Minimo)\n",
        "\n",
        "media = sum(lista)/len(lista)\n",
        "print(media)\n",
        "\n",
        "# sorted = ordena a lista, verifica o tamanho da lista é impar ou par, se for impar retorna o valor central e se for par, calcula a média dos valores centrais e retorna a mediana\n",
        "\n",
        "mediana = sorted(lista)[len(lista) // 2]\n",
        "print(mediana)\n",
        "\n",
        "desvio_Padrao = (sum((x - media) ** 2 for x in lista) / len(lista)) ** 0.5\n",
        "print(desvio_Padrao)"
      ]
    }
  ]
}