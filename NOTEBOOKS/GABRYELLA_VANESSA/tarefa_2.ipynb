{
  "nbformat": 4,
  "nbformat_minor": 0,
  "metadata": {
    "colab": {
      "provenance": []
    },
    "kernelspec": {
      "name": "python3",
      "display_name": "Python 3"
    },
    "language_info": {
      "name": "python"
    }
  },
  "cells": [
    {
      "cell_type": "code",
      "execution_count": 20,
      "metadata": {
        "id": "d6z95eGerLIi"
      },
      "outputs": [],
      "source": [
        "import pandas as pd\n",
        "import matplotlib.pyplot as plt\n",
        "\n",
        "\n",
        "notas = pd.read_csv(\"https://raw.githubusercontent.com/alura-cursos/introducao-a-data-science/master/aula2.1/ratings.csv\")\n",
        "filmes = pd.read_csv(\"https://raw.githubusercontent.com/alura-cursos/introducao-a-data-science/master/aula2.1/movies.csv\")\n",
        "\n",
        "#Trata-se de uma relação importada de um aplicativo referente a filmes, suas categorias e notas dadas pelos usuários que assistiram os mesmos."
      ]
    },
    {
      "cell_type": "code",
      "source": [
        "#Visualização do topo da planilha 'NOTAS' para visualização de tabelas:\n",
        "notas.head()"
      ],
      "metadata": {
        "id": "qZTgFOsZrd-L"
      },
      "execution_count": null,
      "outputs": []
    },
    {
      "cell_type": "code",
      "source": [
        "#Visualização do topo da planilha 'FILMES' para visualização de tabelas:\n",
        "filmes.head()"
      ],
      "metadata": {
        "id": "su8cnFGisFX6"
      },
      "execution_count": null,
      "outputs": []
    },
    {
      "cell_type": "code",
      "source": [
        "#Visualização do tamanho de ambas as planilhas:\n",
        "print(\"Notas:\", notas.shape)\n",
        "print(\"Filmes:\", filmes.shape)"
      ],
      "metadata": {
        "id": "-lN9HSLIsn05"
      },
      "execution_count": null,
      "outputs": []
    },
    {
      "cell_type": "code",
      "source": [
        " #Visualização de gêneros e quantidade de filmes nas categorias: ':\n",
        "filmes['genres'].value_counts()"
      ],
      "metadata": {
        "id": "wT7s91-Osxd5"
      },
      "execution_count": null,
      "outputs": []
    },
    {
      "cell_type": "code",
      "source": [
        "#Visualização das notas no geral de cada filme e quantidades na planilha 'NOTAS':\n",
        "notas['rating'].value_counts()"
      ],
      "metadata": {
        "id": "i7MBkeg1uyEh"
      },
      "execution_count": null,
      "outputs": []
    },
    {
      "cell_type": "code",
      "source": [
        "#Analisando algumas notas específicas por filme:\n",
        "medias_por_filme = notas.groupby(\"movieId\").mean().rating\n",
        "medias_por_filme.head()"
      ],
      "metadata": {
        "id": "UbNKLeZ_vbeA"
      },
      "execution_count": null,
      "outputs": []
    },
    {
      "cell_type": "code",
      "source": [
        "#Histograma das médias dos filmes:\n",
        "plt.hist(medias_por_filme)\n",
        "plt.title(\"Histograma das médias\")"
      ],
      "metadata": {
        "id": "tzQjSxB8xvUv"
      },
      "execution_count": null,
      "outputs": []
    },
    {
      "cell_type": "code",
      "source": [],
      "metadata": {
        "id": "aOAaORwxzfUf"
      },
      "execution_count": null,
      "outputs": []
    }
  ]
}