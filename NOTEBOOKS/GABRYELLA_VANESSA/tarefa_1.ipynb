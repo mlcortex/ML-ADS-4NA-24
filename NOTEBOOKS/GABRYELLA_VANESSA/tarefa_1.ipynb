{
  "cells": [
    {
      "cell_type": "code",
      "execution_count": 1,
      "id": "06a9a3ed-4df0-43e8-a592-0b5c6ee92394",
      "metadata": {
        "id": "06a9a3ed-4df0-43e8-a592-0b5c6ee92394"
      },
      "outputs": [],
      "source": [
        "import pandas as pd\n",
        "import statistics as st\n",
        "import numpy as np"
      ]
    },
    {
      "cell_type": "code",
      "execution_count": 8,
      "id": "11e51ad7-b06d-4353-a793-b7bed8a4715c",
      "metadata": {
        "id": "11e51ad7-b06d-4353-a793-b7bed8a4715c"
      },
      "outputs": [],
      "source": [
        "# 01625010 - Gabryella Vanessa Salvador da Silva\n",
        "\n",
        "#Setando a lista\n",
        "valores = [4, 6, 3, 4, 5, 8, 4, 2]\n",
        "df = pd.DataFrame({\n",
        "    'Valores' : valores\n",
        "}\n",
        ")"
      ]
    },
    {
      "cell_type": "code",
      "execution_count": null,
      "id": "a7a4d57c-ea9a-43d1-82da-d144afb1e2da",
      "metadata": {
        "id": "a7a4d57c-ea9a-43d1-82da-d144afb1e2da"
      },
      "outputs": [],
      "source": [
        "#Número com valor máximo\n",
        "máximo = df['Valores'].max()\n",
        "print(máximo)"
      ]
    },
    {
      "cell_type": "code",
      "execution_count": null,
      "id": "65669580-f35a-4ade-a2f2-c276cd503a1a",
      "metadata": {
        "id": "65669580-f35a-4ade-a2f2-c276cd503a1a"
      },
      "outputs": [],
      "source": [
        "#Número com valor mínimo\n",
        "mínimo = df['Valores'].min()\n",
        "print(mínimo)"
      ]
    },
    {
      "cell_type": "code",
      "execution_count": null,
      "id": "73859a22-fccd-48c6-b2fb-ac3a87823d01",
      "metadata": {
        "id": "73859a22-fccd-48c6-b2fb-ac3a87823d01"
      },
      "outputs": [],
      "source": [
        "#Média aritmética dos valores\n",
        "media = np.mean(valores)\n",
        "print(media)"
      ]
    },
    {
      "cell_type": "code",
      "execution_count": null,
      "id": "d534d6f6-9c2d-401d-8515-34b0d3307131",
      "metadata": {
        "id": "d534d6f6-9c2d-401d-8515-34b0d3307131"
      },
      "outputs": [],
      "source": [
        "#Mediana dos valores\n",
        "mediana = st.median(valores)\n",
        "print(mediana)"
      ]
    },
    {
      "cell_type": "code",
      "execution_count": null,
      "id": "862ee0f3-585b-4841-a525-3bddd53f4869",
      "metadata": {
        "id": "862ee0f3-585b-4841-a525-3bddd53f4869"
      },
      "outputs": [],
      "source": [
        "#Desvio padrão dos valores\n",
        "desvio = st.stdev(valores)\n",
        "print(desvio)"
      ]
    },
    {
      "cell_type": "code",
      "execution_count": null,
      "id": "8ca17bf3-05fc-4748-b746-db942af6a46e",
      "metadata": {
        "id": "8ca17bf3-05fc-4748-b746-db942af6a46e"
      },
      "outputs": [],
      "source": []
    }
  ],
  "metadata": {
    "kernelspec": {
      "display_name": "Python 3 (ipykernel)",
      "language": "python",
      "name": "python3"
    },
    "language_info": {
      "codemirror_mode": {
        "name": "ipython",
        "version": 3
      },
      "file_extension": ".py",
      "mimetype": "text/x-python",
      "name": "python",
      "nbconvert_exporter": "python",
      "pygments_lexer": "ipython3",
      "version": "3.12.4"
    },
    "colab": {
      "provenance": []
    }
  },
  "nbformat": 4,
  "nbformat_minor": 5
}