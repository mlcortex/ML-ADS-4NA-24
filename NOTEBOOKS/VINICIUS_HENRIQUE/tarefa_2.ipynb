{
  "nbformat": 4,
  "nbformat_minor": 0,
  "metadata": {
    "colab": {
      "provenance": []
    },
    "kernelspec": {
      "name": "python3",
      "display_name": "Python 3"
    },
    "language_info": {
      "name": "python"
    }
  },
  "cells": [
    {
      "cell_type": "code",
      "execution_count": 1,
      "metadata": {
        "colab": {
          "base_uri": "https://localhost:8080/"
        },
        "id": "A4Wx61QH4ufj",
        "outputId": "8dcd892a-597d-4f88-bd29-914874250d0f"
      },
      "outputs": [
        {
          "output_type": "stream",
          "name": "stdout",
          "text": [
            "1. Valor máximo:  8\n",
            "2. Valor mínimo:  2\n",
            "3. Média aritmética dos valores:  4.5\n",
            "4. Mediana dos valores:  4.0\n",
            "5. Desvio padrão dos valores:  1.7320508075688772\n"
          ]
        }
      ],
      "source": [
        "import numpy as np\n",
        "\n",
        "valores = [4, 6, 3, 4, 5, 8, 4, 2]\n",
        "\n",
        "print(\"1. Valor máximo: \", max(valores))\n",
        "print(\"2. Valor mínimo: \", min(valores))\n",
        "\n",
        "print(\"3. Média aritmética dos valores: \", np.mean(valores))\n",
        "\n",
        "print(\"4. Mediana dos valores: \", np.median(valores))\n",
        "\n",
        "print(\"5. Desvio padrão dos valores: \", np.std(valores))"
      ]
    }
  ]
}
