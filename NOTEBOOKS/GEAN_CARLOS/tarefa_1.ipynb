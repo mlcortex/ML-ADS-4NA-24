{
  "nbformat": 4,
  "nbformat_minor": 0,
  "metadata": {
    "colab": {
      "provenance": []
    },
    "kernelspec": {
      "name": "python3",
      "display_name": "Python 3"
    },
    "language_info": {
      "name": "python"
    }
  },
  "cells": [
    {
      "cell_type": "markdown",
      "source": [
        "# Exercício 1\n",
        "***\n",
        "Para a seguinte lista de números:\n",
        "```python\n",
        "valores = [4, 6, 3, 4, 5, 8, 4, 2]\n",
        "```\n",
        "Crie um notebook que apresente as seguintes informações sobre a lista:   \n",
        "\n",
        "- Valor máximo;   \n",
        "- Valor mínimo;\n",
        "- Média aritmética dos valores;\n",
        "- Mediana dos valores;\n",
        "- Desvio padrão dos valores.\n",
        "\n",
        "O arquivo deve conter o nome tarefa_1.ipynb. Envie o arquivo na sua respectiva pasta em NOTEBOOKS."
      ],
      "metadata": {
        "id": "Q7PKsEUfkc4K"
      }
    },
    {
      "cell_type": "markdown",
      "source": [
        "## Resolução\n",
        "***\n",
        "Para achar os valores de máximo e mínimo, os métodos built-in do python: **max** e **min**, podem ser usados.  \n",
        "Para a média e desvio padrão: o pacote **statistics** pode ser usado.\n",
        "Obs.: O desvio padrão usado foi o populacional, pois todos os dados do conjunto foram usados."
      ],
      "metadata": {
        "id": "zgn9dNqcp4Js"
      }
    },
    {
      "cell_type": "code",
      "source": [
        "import statistics\n",
        "\n",
        "valores = [4, 6, 3, 4, 5, 8, 4, 2]\n",
        "\n",
        "print(f'''\n",
        "valores = [4, 6, 3, 4, 5, 8, 4, 2]\n",
        "\n",
        "Valor máximo: {max(valores)}\n",
        "Valor mínimo: {min(valores)}\n",
        "Média aritmética dos valores: {statistics.mean(valores)}\n",
        "Desvio padrão dos valores: {statistics.pstdev(valores)}''')"
      ],
      "metadata": {
        "colab": {
          "base_uri": "https://localhost:8080/"
        },
        "id": "lqi2gpE9mzh_",
        "outputId": "23b9f628-2818-44de-f6f5-50d767ed9882"
      },
      "execution_count": 32,
      "outputs": [
        {
          "output_type": "stream",
          "name": "stdout",
          "text": [
            "\n",
            "valores = [4, 6, 3, 4, 5, 8, 4, 2]\n",
            "\n",
            "Valor máximo: None\n",
            "Valor mínimo: 2\n",
            "Média aritmética dos valores: 4.5\n",
            "Desvio padrão dos valores: 1.7320508075688772\n"
          ]
        }
      ]
    },
    {
      "cell_type": "code",
      "source": [
        "from math import inf, sqrt, pow\n",
        "from functools import reduce\n",
        "\n",
        "valores = [4, 6, 3, 4, 5, 8, 4, 2]\n",
        "\n",
        "def somatorio(serie):\n",
        "  soma = reduce(lambda a, b: a + b, serie)\n",
        "  return soma\n",
        "\n",
        "def desviopadraopop(serie): # desvio_padrao = √((elemento-media)²/quantidade_elementos)\n",
        "  soma = somatorio([pow(n-media(serie), 2) for n in serie])\n",
        "  desviopadrao = sqrt(soma/len(serie))\n",
        "  return desviopadrao\n",
        "\n",
        "def media(serie):\n",
        "  soma = somatorio(serie)\n",
        "  media = soma/len(serie)\n",
        "  return media\n",
        "\n",
        "def minimo(serie):\n",
        "  aux = inf\n",
        "  for n in serie:\n",
        "    if aux > n:\n",
        "      aux = n\n",
        "  return aux\n",
        "\n",
        "def maximo(serie):\n",
        "  aux = -inf\n",
        "  for n in serie:\n",
        "    if aux < n:\n",
        "      aux = n\n",
        "  return aux\n",
        "\n",
        "print(f'''valores = [4, 6, 3, 4, 5, 8, 4, 2]\n",
        "\n",
        "Valor máximo: {maximo(valores)}\n",
        "Valor mínimo: {minimo(valores)}\n",
        "Média aritmética dos valores: {media(valores)}\n",
        "Desvio padrão dos valores: {desviopadraopop(valores)}''')"
      ],
      "metadata": {
        "colab": {
          "base_uri": "https://localhost:8080/"
        },
        "id": "WIA4_-6_rKZ5",
        "outputId": "0861e2a2-3a9f-4655-f73a-31a20000cc44"
      },
      "execution_count": 31,
      "outputs": [
        {
          "output_type": "stream",
          "name": "stdout",
          "text": [
            "valores = [4, 6, 3, 4, 5, 8, 4, 2]\n",
            "\n",
            "Valor máximo: 8\n",
            "Valor mínimo: 2\n",
            "Média aritmética dos valores: 4.5\n",
            "Desvio padrão dos valores: 1.7320508075688772\n"
          ]
        }
      ]
    }
  ]
}