{
  "nbformat": 4,
  "nbformat_minor": 0,
  "metadata": {
    "colab": {
      "provenance": []
    },
    "kernelspec": {
      "name": "python3",
      "display_name": "Python 3"
    },
    "language_info": {
      "name": "python"
    }
  },
  "cells": [
    {
      "cell_type": "code",
      "execution_count": null,
      "metadata": {
        "id": "NAiS2uPYSH_Q"
      },
      "outputs": [],
      "source": []
    },
    {
      "cell_type": "markdown",
      "source": [
        "Leitura dos Dados\n",
        "Primeiro, vamos carregar o dataset de vinhos da UCI:"
      ],
      "metadata": {
        "id": "mLmM77_OSLE9"
      }
    },
    {
      "cell_type": "code",
      "source": [
        "import pandas as pd\n",
        "\n",
        "# URL do dataset Wine\n",
        "url = 'https://archive.ics.uci.edu/ml/machine-learning-databases/wine/wine.data'\n",
        "\n",
        "# Nome das colunas em português BR\n",
        "column_names_pt_br = [\n",
        "    'classe',\n",
        "    'alcool',\n",
        "    'acido_malico',\n",
        "    'cinzas',\n",
        "    'alcalinidade_de_cinzas',\n",
        "    'magnesio',\n",
        "    'fenois_totais',\n",
        "    'flavanoides',\n",
        "    'fenois_nao_flavanoides',\n",
        "    'proantocianinas',\n",
        "    'intensidade_de_cor',\n",
        "    'matiz',\n",
        "    'od280_od315_de_vinhos_diluidos',\n",
        "    'prolina'\n",
        "]\n",
        "\n",
        "# Ler o arquivo CSV com as colunas especificadas, definindo a coluna 'classe' como object\n",
        "vinhos = pd.read_csv(url, names=column_names_pt_br, dtype={'classe': object})\n",
        "\n",
        "# Verificando os dados\n",
        "print(vinhos.head())\n"
      ],
      "metadata": {
        "colab": {
          "base_uri": "https://localhost:8080/"
        },
        "id": "VgnwehWYSMNd",
        "outputId": "c518c41c-2a7f-4d8a-a8a8-c2e097e069d1"
      },
      "execution_count": null,
      "outputs": [
        {
          "output_type": "stream",
          "name": "stdout",
          "text": [
            "  classe  alcool  acido_malico  cinzas  alcalinidade_de_cinzas  magnesio  \\\n",
            "0      1   14.23          1.71    2.43                    15.6       127   \n",
            "1      1   13.20          1.78    2.14                    11.2       100   \n",
            "2      1   13.16          2.36    2.67                    18.6       101   \n",
            "3      1   14.37          1.95    2.50                    16.8       113   \n",
            "4      1   13.24          2.59    2.87                    21.0       118   \n",
            "\n",
            "   fenois_totais  flavanoides  fenois_nao_flavanoides  proantocianinas  \\\n",
            "0           2.80         3.06                    0.28             2.29   \n",
            "1           2.65         2.76                    0.26             1.28   \n",
            "2           2.80         3.24                    0.30             2.81   \n",
            "3           3.85         3.49                    0.24             2.18   \n",
            "4           2.80         2.69                    0.39             1.82   \n",
            "\n",
            "   intensidade_de_cor  matiz  od280_od315_de_vinhos_diluidos  prolina  \n",
            "0                5.64   1.04                            3.92     1065  \n",
            "1                4.38   1.05                            3.40     1050  \n",
            "2                5.68   1.03                            3.17     1185  \n",
            "3                7.80   0.86                            3.45     1480  \n",
            "4                4.32   1.04                            2.93      735  \n"
          ]
        }
      ]
    },
    {
      "cell_type": "markdown",
      "source": [
        "Pré-processamento dos Dados\n",
        "Separemos as variáveis de entrada (X) e saída (y):\n"
      ],
      "metadata": {
        "id": "-_OefmOBSRaU"
      }
    },
    {
      "cell_type": "code",
      "source": [
        "# Separar os dados em variáveis de entrada (X) e saída (y)\n",
        "X = vinhos.drop('classe', axis=1)\n",
        "y = vinhos['classe']\n"
      ],
      "metadata": {
        "id": "U3oD1xbvSWEL"
      },
      "execution_count": null,
      "outputs": []
    },
    {
      "cell_type": "markdown",
      "source": [
        "Configuração do Experimento\n",
        "Realizaremos três experimentos, alterando o random_state para os valores 42, 17 e 24. Para cada experimento, aplicaremos o KNN com k=3 e k=5.\n",
        "\n",
        "4. Estrutura de Cross-Validation com KFold\n",
        "Utilizaremos o KFold para realizar a validação cruzada. Vamos estruturar o código para aplicar o KNN e calcular a acurácia em cada fold:"
      ],
      "metadata": {
        "id": "U5idbe5VSddj"
      }
    },
    {
      "cell_type": "code",
      "source": [
        "from sklearn.model_selection import KFold\n",
        "from sklearn.neighbors import KNeighborsClassifier\n",
        "from sklearn.metrics import accuracy_score\n",
        "import numpy as np\n",
        "\n",
        "def avaliar_knn(X, y, random_state):\n",
        "    kf = KFold(n_splits=10, shuffle=True, random_state=random_state)\n",
        "    accuracies_k3 = []\n",
        "    accuracies_k5 = []\n",
        "\n",
        "    for train_index, test_index in kf.split(X):\n",
        "        X_train, X_test = X.iloc[train_index], X.iloc[test_index]\n",
        "        y_train, y_test = y.iloc[train_index], y.iloc[test_index]\n",
        "\n",
        "        # KNN com k=3\n",
        "        knn3 = KNeighborsClassifier(n_neighbors=3)\n",
        "        knn3.fit(X_train, y_train)\n",
        "        y_pred_3 = knn3.predict(X_test)\n",
        "        accuracies_k3.append(accuracy_score(y_test, y_pred_3))\n",
        "\n",
        "        # KNN com k=5\n",
        "        knn5 = KNeighborsClassifier(n_neighbors=5)\n",
        "        knn5.fit(X_train, y_train)\n",
        "        y_pred_5 = knn5.predict(X_test)\n",
        "        accuracies_k5.append(accuracy_score(y_test, y_pred_5))\n",
        "\n",
        "    return {\n",
        "        'random_state': random_state,\n",
        "        'mean_accuracy_k3': np.mean(accuracies_k3),\n",
        "        'std_accuracy_k3': np.std(accuracies_k3),\n",
        "        'mean_accuracy_k5': np.mean(accuracies_k5),\n",
        "        'std_accuracy_k5': np.std(accuracies_k5),\n",
        "    }\n",
        "\n",
        "# Avaliar com random_state 42, 17 e 24\n",
        "resultados_42 = avaliar_knn(X, y, 42)\n",
        "resultados_17 = avaliar_knn(X, y, 17)\n",
        "resultados_24 = avaliar_knn(X, y, 24)\n",
        "\n",
        "print(resultados_42)\n",
        "print(resultados_17)\n",
        "print(resultados_24)\n"
      ],
      "metadata": {
        "colab": {
          "base_uri": "https://localhost:8080/"
        },
        "id": "uU0Dip-vSepD",
        "outputId": "2a9a7b09-6c23-4a01-8bac-ae8c43052d2b"
      },
      "execution_count": null,
      "outputs": [
        {
          "output_type": "stream",
          "name": "stdout",
          "text": [
            "{'random_state': 42, 'mean_accuracy_k3': 0.70359477124183, 'std_accuracy_k3': 0.13918691592617136, 'mean_accuracy_k5': 0.6640522875816993, 'std_accuracy_k5': 0.10007472964927165}\n",
            "{'random_state': 17, 'mean_accuracy_k3': 0.6986928104575163, 'std_accuracy_k3': 0.10403044405660643, 'mean_accuracy_k5': 0.6875816993464052, 'std_accuracy_k5': 0.11211770116307625}\n",
            "{'random_state': 24, 'mean_accuracy_k3': 0.7127450980392157, 'std_accuracy_k3': 0.09681644876344142, 'mean_accuracy_k5': 0.7127450980392157, 'std_accuracy_k5': 0.09397285976504524}\n"
          ]
        }
      ]
    },
    {
      "cell_type": "markdown",
      "source": [
        "Análise dos Resultados\n",
        "Após a execução dos experimentos, vamos calcular a média e o desvio padrão da acurácia para cada valor de k em cada experimento e identificar a melhor configuração:"
      ],
      "metadata": {
        "id": "FzAiz-LPSo9V"
      }
    },
    {
      "cell_type": "code",
      "source": [
        "resultados = [resultados_42, resultados_17, resultados_24]\n",
        "\n",
        "for resultado in resultados:\n",
        "    print(f\"random_state={resultado['random_state']} -> \"\n",
        "          f\"Média Acurácia k=3: {resultado['mean_accuracy_k3']:.4f} (+/- {resultado['std_accuracy_k3']:.4f}), \"\n",
        "          f\"Média Acurácia k=5: {resultado['mean_accuracy_k5']:.4f} (+/- {resultado['std_accuracy_k5']:.4f})\")\n",
        "\n",
        "melhor_configuracao = max(resultados, key=lambda x: max(x['mean_accuracy_k3'], x['mean_accuracy_k5']))\n",
        "print(f\"Melhor configuração: random_state={melhor_configuracao['random_state']}, \"\n",
        "      f\"k={'3' if melhor_configuracao['mean_accuracy_k3'] > melhor_configuracao['mean_accuracy_k5'] else '5'}, \"\n",
        "      f\"Acurácia={max(melhor_configuracao['mean_accuracy_k3'], melhor_configuracao['mean_accuracy_k5']):.4f}\")\n"
      ],
      "metadata": {
        "colab": {
          "base_uri": "https://localhost:8080/"
        },
        "id": "58nQWw-_Sptz",
        "outputId": "47628c58-4668-4c5b-af9e-1c35ed24754e"
      },
      "execution_count": null,
      "outputs": [
        {
          "output_type": "stream",
          "name": "stdout",
          "text": [
            "random_state=42 -> Média Acurácia k=3: 0.7036 (+/- 0.1392), Média Acurácia k=5: 0.6641 (+/- 0.1001)\n",
            "random_state=17 -> Média Acurácia k=3: 0.6987 (+/- 0.1040), Média Acurácia k=5: 0.6876 (+/- 0.1121)\n",
            "random_state=24 -> Média Acurácia k=3: 0.7127 (+/- 0.0968), Média Acurácia k=5: 0.7127 (+/- 0.0940)\n",
            "Melhor configuração: random_state=24, k=5, Acurácia=0.7127\n"
          ]
        }
      ]
    }
  ]
}