{
  "nbformat": 4,
  "nbformat_minor": 0,
  "metadata": {
    "colab": {
      "provenance": []
    },
    "kernelspec": {
      "name": "python3",
      "display_name": "Python 3"
    },
    "language_info": {
      "name": "python"
    }
  },
  "cells": [
    {
      "cell_type": "code",
      "execution_count": null,
      "metadata": {
        "id": "mOCWwfSQh-Lk"
      },
      "outputs": [],
      "source": []
    },
    {
      "cell_type": "markdown",
      "source": [
        "Exercicio:\n",
        "Para a seguinte lista de números:\n",
        "\n",
        "valores = [4, 6, 3, 4, 5, 8, 4, 2]\n",
        "Crie um notebook que apresente as seguintes informações sobre a lista:\n",
        "\n",
        "Valor máximo\n",
        "Valor mínimo\n",
        "Média aritmética dos valores\n",
        "Mediana dos valores\n",
        "Desvio padrão dos valores."
      ],
      "metadata": {
        "id": "D8eFAYU6h-y-"
      }
    },
    {
      "cell_type": "markdown",
      "source": [
        "Resolução:"
      ],
      "metadata": {
        "id": "FXwsl4t2ic2c"
      }
    },
    {
      "cell_type": "code",
      "source": [],
      "metadata": {
        "id": "SByNRc0viL9r"
      },
      "execution_count": null,
      "outputs": []
    },
    {
      "cell_type": "code",
      "source": [
        "# Lista de valores\n",
        "valores = [4, 6, 3, 4, 5, 8, 4, 2]\n",
        "\n",
        "# Importando bibliotecas necessárias\n",
        "import numpy as np\n",
        "\n",
        "# Calculando o valor máximo\n",
        "valor_maximo = max(valores)\n",
        "\n",
        "# Calculando o valor mínimo\n",
        "valor_minimo = min(valores)\n",
        "\n",
        "# Calculando a média aritmética\n",
        "media_aritmetica = np.mean(valores)\n",
        "\n",
        "# Calculando a mediana\n",
        "mediana = np.median(valores)\n",
        "\n",
        "# Calculando o desvio padrão\n",
        "desvio_padrao = np.std(valores)\n",
        "\n",
        "# Exibindo os resultados\n",
        "print(f\"Valor máximo: {valor_maximo}\")\n",
        "print(f\"Valor mínimo: {valor_minimo}\")\n",
        "print(f\"Média aritmética: {media_aritmetica}\")\n",
        "print(f\"Mediana: {mediana}\")\n",
        "print(f\"Desvio padrão: {desvio_padrao}\")\n"
      ],
      "metadata": {
        "colab": {
          "base_uri": "https://localhost:8080/"
        },
        "id": "kxk1o81MiNun",
        "outputId": "dc23bff6-18b4-4348-f879-35f2a50a48ef"
      },
      "execution_count": 1,
      "outputs": [
        {
          "output_type": "stream",
          "name": "stdout",
          "text": [
            "Valor máximo: 8\n",
            "Valor mínimo: 2\n",
            "Média aritmética: 4.5\n",
            "Mediana: 4.0\n",
            "Desvio padrão: 1.7320508075688772\n"
          ]
        }
      ]
    },
    {
      "cell_type": "code",
      "source": [],
      "metadata": {
        "id": "D1p5-25CiSNc"
      },
      "execution_count": null,
      "outputs": []
    }
  ]
}