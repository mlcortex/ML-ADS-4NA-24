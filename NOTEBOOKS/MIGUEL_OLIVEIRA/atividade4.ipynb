{
  "nbformat": 4,
  "nbformat_minor": 0,
  "metadata": {
    "colab": {
      "provenance": []
    },
    "kernelspec": {
      "name": "python3",
      "display_name": "Python 3"
    },
    "language_info": {
      "name": "python"
    }
  },
  "cells": [
    {
      "cell_type": "code",
      "execution_count": 1,
      "metadata": {
        "colab": {
          "base_uri": "https://localhost:8080/"
        },
        "id": "XHfwMQymCq3F",
        "outputId": "c5ef123f-95ed-4bcb-f4ce-e7e539c1329b"
      },
      "outputs": [
        {
          "output_type": "stream",
          "name": "stdout",
          "text": [
            "Random State: 42\n",
            "k=3: Mean Accuracy = 0.70359477124183, Std = 0.13918691592617136\n",
            "k=5: Mean Accuracy = 0.6640522875816993, Std = 0.10007472964927165\n",
            "----------------------------------------\n",
            "Random State: 17\n",
            "k=3: Mean Accuracy = 0.6986928104575163, Std = 0.10403044405660643\n",
            "k=5: Mean Accuracy = 0.6875816993464052, Std = 0.11211770116307625\n",
            "----------------------------------------\n",
            "Random State: 24\n",
            "k=3: Mean Accuracy = 0.7127450980392157, Std = 0.09681644876344142\n",
            "k=5: Mean Accuracy = 0.7127450980392157, Std = 0.09397285976504524\n",
            "----------------------------------------\n"
          ]
        }
      ],
      "source": [
        "import pandas as pd\n",
        "from sklearn.model_selection import KFold\n",
        "from sklearn.neighbors import KNeighborsClassifier\n",
        "from sklearn.metrics import accuracy_score\n",
        "import numpy as np\n",
        "\n",
        "# URL do dataset Wine\n",
        "url = 'https://archive.ics.uci.edu/ml/machine-learning-databases/wine/wine.data'\n",
        "\n",
        "# Nome das colunas em português BR\n",
        "column_names_pt_br = [\n",
        "    'classe',\n",
        "    'alcool',\n",
        "    'acido_malico',\n",
        "    'cinzas',\n",
        "    'alcalinidade_de_cinzas',\n",
        "    'magnesio',\n",
        "    'fenois_totais',\n",
        "    'flavanoides',\n",
        "    'fenois_nao_flavanoides',\n",
        "    'proantocianinas',\n",
        "    'intensidade_de_cor',\n",
        "    'matiz',\n",
        "    'od280_od315_de_vinhos_diluidos',\n",
        "    'prolina'\n",
        "]\n",
        "\n",
        "# Ler o arquivo CSV com as colunas especificadas, definindo a coluna 'classe' como object\n",
        "vinhos = pd.read_csv(url, names=column_names_pt_br, dtype={'classe': object})\n",
        "\n",
        "# Separação das variáveis\n",
        "X = vinhos.drop('classe', axis=1)\n",
        "y = vinhos['classe']\n",
        "\n",
        "# Função para realizar k-fold cross-validation e avaliar KNN com diferentes valores de k\n",
        "def avaliar_knn_kfold(random_state):\n",
        "    kf = KFold(n_splits=10, shuffle=True, random_state=random_state)\n",
        "    accuracies_k3 = []\n",
        "    accuracies_k5 = []\n",
        "\n",
        "    for train_index, test_index in kf.split(X):\n",
        "        X_train, X_test = X.iloc[train_index], X.iloc[test_index]\n",
        "        y_train, y_test = y.iloc[train_index], y.iloc[test_index]\n",
        "\n",
        "        # KNN com k=3\n",
        "        knn3 = KNeighborsClassifier(n_neighbors=3)\n",
        "        knn3.fit(X_train, y_train)\n",
        "        y_pred_knn3 = knn3.predict(X_test)\n",
        "        accuracy_knn3 = accuracy_score(y_test, y_pred_knn3)\n",
        "        accuracies_k3.append(accuracy_knn3)\n",
        "\n",
        "        # KNN com k=5\n",
        "        knn5 = KNeighborsClassifier(n_neighbors=5)\n",
        "        knn5.fit(X_train, y_train)\n",
        "        y_pred_knn5 = knn5.predict(X_test)\n",
        "        accuracy_knn5 = accuracy_score(y_test, y_pred_knn5)\n",
        "        accuracies_k5.append(accuracy_knn5)\n",
        "\n",
        "    # Resultados médios e desvios padrões\n",
        "    mean_accuracy_k3 = np.mean(accuracies_k3)\n",
        "    std_accuracy_k3 = np.std(accuracies_k3)\n",
        "    mean_accuracy_k5 = np.mean(accuracies_k5)\n",
        "    std_accuracy_k5 = np.std(accuracies_k5)\n",
        "\n",
        "    print(f'Random State: {random_state}')\n",
        "    print(f'k=3: Mean Accuracy = {mean_accuracy_k3}, Std = {std_accuracy_k3}')\n",
        "    print(f'k=5: Mean Accuracy = {mean_accuracy_k5}, Std = {std_accuracy_k5}')\n",
        "    print('-' * 40)\n",
        "\n",
        "# Avaliar com diferentes random_states\n",
        "random_states = [42, 17, 24]\n",
        "for state in random_states:\n",
        "    avaliar_knn_kfold(state)\n"
      ]
    }
  ]
}