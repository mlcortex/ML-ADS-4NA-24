{
  "nbformat": 4,
  "nbformat_minor": 0,
  "metadata": {
    "colab": {
      "provenance": []
    },
    "kernelspec": {
      "name": "python3",
      "display_name": "Python 3"
    },
    "language_info": {
      "name": "python"
    }
  },
  "cells": [
    {
      "cell_type": "code",
      "execution_count": 1,
      "metadata": {
        "colab": {
          "base_uri": "https://localhost:8080/"
        },
        "id": "q-RO2YJG19d3",
        "outputId": "bea263a1-0bf6-40aa-cf9d-3ac94edd1fad"
      },
      "outputs": [
        {
          "output_type": "stream",
          "name": "stdout",
          "text": [
            "Avaliando com random_state=42...\n",
            "k=3, Acurácia=0.7407\n",
            "k=5, Acurácia=0.7407\n",
            "Avaliando com random_state=17...\n",
            "k=3, Acurácia=0.6481\n",
            "k=5, Acurácia=0.6667\n",
            "Avaliando com random_state=24...\n",
            "k=3, Acurácia=0.7407\n",
            "k=5, Acurácia=0.6667\n",
            "\n",
            "Resumo dos resultados:\n",
            "Random State 42: {3: 0.7407407407407407, 5: 0.7407407407407407}\n",
            "Random State 17: {3: 0.6481481481481481, 5: 0.6666666666666666}\n",
            "Random State 24: {3: 0.7407407407407407, 5: 0.6666666666666666}\n",
            "\n",
            "A melhor configuração foi: random_state=42, k=3, com acurácia=0.7407\n"
          ]
        }
      ],
      "source": [
        "# Importação das bibliotecas necessárias\n",
        "import pandas as pd\n",
        "from sklearn.model_selection import train_test_split\n",
        "from sklearn.neighbors import KNeighborsClassifier\n",
        "from sklearn.metrics import accuracy_score\n",
        "\n",
        "# URL do dataset Wine\n",
        "url = 'https://archive.ics.uci.edu/ml/machine-learning-databases/wine/wine.data'\n",
        "\n",
        "# Nome das colunas em português BR\n",
        "column_names_pt_br = [\n",
        "    'classe',\n",
        "    'alcool',\n",
        "    'acido_malico',\n",
        "    'cinzas',\n",
        "    'alcalinidade_de_cinzas',\n",
        "    'magnesio',\n",
        "    'fenois_totais',\n",
        "    'flavanoides',\n",
        "    'fenois_nao_flavanoides',\n",
        "    'proantocianinas',\n",
        "    'intensidade_de_cor',\n",
        "    'matiz',\n",
        "    'od280_od315_de_vinhos_diluidos',\n",
        "    'prolina'\n",
        "]\n",
        "\n",
        "# Carregando o dataset\n",
        "vinhos = pd.read_csv(url, names=column_names_pt_br, dtype={'classe': object})\n",
        "\n",
        "# Função para realizar treinamento e avaliação do KNN com diferentes random_state e valores de k\n",
        "def avalia_knn(random_state):\n",
        "    # Separação dos dados em treino e teste\n",
        "    X = vinhos.drop(columns=['classe'])\n",
        "    y = vinhos['classe']\n",
        "    X_train, X_test, y_train, y_test = train_test_split(\n",
        "        X, y, test_size=0.3, random_state=random_state\n",
        "    )\n",
        "\n",
        "    # Lista de valores de k\n",
        "    valores_k = [3, 5]\n",
        "    resultados = {}\n",
        "\n",
        "    for k in valores_k:\n",
        "        # Treinamento do modelo\n",
        "        knn = KNeighborsClassifier(n_neighbors=k)\n",
        "        knn.fit(X_train, y_train)\n",
        "\n",
        "        # Previsões e avaliação\n",
        "        y_pred = knn.predict(X_test)\n",
        "        accuracy = accuracy_score(y_test, y_pred)\n",
        "        resultados[k] = accuracy\n",
        "\n",
        "    return resultados\n",
        "\n",
        "# Valores de random_state a serem avaliados\n",
        "random_states = [42, 17, 24]\n",
        "resultados_finais = {}\n",
        "\n",
        "# Avaliação para cada random_state\n",
        "for rs in random_states:\n",
        "    print(f\"Avaliando com random_state={rs}...\")\n",
        "    resultados = avalia_knn(random_state=rs)\n",
        "    resultados_finais[rs] = resultados\n",
        "    for k, acc in resultados.items():\n",
        "        print(f\"k={k}, Acurácia={acc:.4f}\")\n",
        "\n",
        "# Análise final dos resultados\n",
        "print(\"\\nResumo dos resultados:\")\n",
        "for rs, res in resultados_finais.items():\n",
        "    print(f\"Random State {rs}: {res}\")\n",
        "\n",
        "melhor_configuracao = max(\n",
        "    ((rs, k, acc) for rs, res in resultados_finais.items() for k, acc in res.items()),\n",
        "    key=lambda x: x[2]\n",
        ")\n",
        "print(\n",
        "    f\"\\nA melhor configuração foi: random_state={melhor_configuracao[0]}, \"\n",
        "    f\"k={melhor_configuracao[1]}, com acurácia={melhor_configuracao[2]:.4f}\"\n",
        ")\n"
      ]
    }
  ]
}