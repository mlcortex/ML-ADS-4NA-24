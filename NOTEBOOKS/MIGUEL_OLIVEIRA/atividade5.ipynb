{
  "nbformat": 4,
  "nbformat_minor": 0,
  "metadata": {
    "colab": {
      "provenance": []
    },
    "kernelspec": {
      "name": "python3",
      "display_name": "Python 3"
    },
    "language_info": {
      "name": "python"
    }
  },
  "cells": [
    {
      "cell_type": "code",
      "execution_count": 1,
      "metadata": {
        "colab": {
          "base_uri": "https://localhost:8080/"
        },
        "id": "kUoK2uol-g2I",
        "outputId": "a89663c2-2b24-42fb-f543-67741b5377fe"
      },
      "outputs": [
        {
          "output_type": "stream",
          "name": "stdout",
          "text": [
            "Inércia do modelo K-Means: 44.887604580852816\n",
            "Distribuição dos clusters:\n",
            "cluster\n",
            "2    59\n",
            "1    50\n",
            "0    36\n",
            "3    33\n",
            "Name: count, dtype: int64\n",
            "\n",
            "Comparação com classes originais:\n",
            "cluster  classe\n",
            "0        2         34\n",
            "         1          2\n",
            "1        3         48\n",
            "         2          2\n",
            "2        1         57\n",
            "         2          2\n",
            "3        2         33\n",
            "Name: count, dtype: int64\n",
            "\n",
            "Tabela cruzada:\n",
            "cluster   0   1   2   3\n",
            "classe                 \n",
            "1         2   0  57   0\n",
            "2        34   2   2  33\n",
            "3         0  48   0   0\n"
          ]
        }
      ],
      "source": [
        "# Importação de bibliotecas necessárias\n",
        "import pandas as pd\n",
        "from sklearn.preprocessing import MinMaxScaler\n",
        "from sklearn.cluster import KMeans\n",
        "\n",
        "# URL do dataset Wine\n",
        "url = 'https://archive.ics.uci.edu/ml/machine-learning-databases/wine/wine.data'\n",
        "\n",
        "# Nome das colunas em português BR\n",
        "column_names_pt_br = [\n",
        "    'classe',\n",
        "    'alcool',\n",
        "    'acido_malico',\n",
        "    'cinzas',\n",
        "    'alcalinidade_de_cinzas',\n",
        "    'magnesio',\n",
        "    'fenois_totais',\n",
        "    'flavanoides',\n",
        "    'fenois_nao_flavanoides',\n",
        "    'proantocianinas',\n",
        "    'intensidade_de_cor',\n",
        "    'matiz',\n",
        "    'od280_od315_de_vinhos_diluidos',\n",
        "    'prolina'\n",
        "]\n",
        "\n",
        "# Ler o arquivo CSV com as colunas especificadas, definindo a coluna 'classe' como object\n",
        "vinhos = pd.read_csv(url, names=column_names_pt_br, dtype={'classe': object})\n",
        "\n",
        "# 1. Normalização dos Dados\n",
        "X = vinhos.drop('classe', axis=1)  # Dropar a coluna 'classe'\n",
        "scaler = MinMaxScaler()           # Instanciar o scaler\n",
        "X_scaled = scaler.fit_transform(X)  # Normalizar os dados\n",
        "\n",
        "# 2. Aplicação do K-Means\n",
        "kmeans = KMeans(n_clusters=4, random_state=42)  # Modelo K-Means com 4 clusters\n",
        "vinhos['cluster'] = kmeans.fit_predict(X_scaled)  # Adiciona os clusters ao DataFrame\n",
        "\n",
        "# Exibir a inércia do modelo\n",
        "print(f\"Inércia do modelo K-Means: {kmeans.inertia_}\")\n",
        "\n",
        "# 3. Análise dos Clusters\n",
        "print(\"Distribuição dos clusters:\")\n",
        "print(vinhos['cluster'].value_counts())\n",
        "\n",
        "# 4. Comparação com Classes Originais\n",
        "print(\"\\nComparação com classes originais:\")\n",
        "comparacao_grupo = vinhos.groupby('cluster')['classe'].value_counts()\n",
        "print(comparacao_grupo)\n",
        "\n",
        "comparacao_crosstab = pd.crosstab(vinhos['classe'], vinhos['cluster'])\n",
        "print(\"\\nTabela cruzada:\")\n",
        "print(comparacao_crosstab)\n"
      ]
    }
  ]
}