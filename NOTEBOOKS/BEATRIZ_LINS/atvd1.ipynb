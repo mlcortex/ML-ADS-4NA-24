{
  "nbformat": 4,
  "nbformat_minor": 0,
  "metadata": {
    "colab": {
      "provenance": []
    },
    "kernelspec": {
      "name": "python3",
      "display_name": "Python 3"
    },
    "language_info": {
      "name": "python"
    }
  },
  "cells": [
    {
      "cell_type": "code",
      "source": [
        "valores = [4, 6, 3, 4, 5, 8, 4, 2]"
      ],
      "metadata": {
        "id": "YDE1GKiAgwrL"
      },
      "execution_count": 1,
      "outputs": []
    },
    {
      "cell_type": "code",
      "source": [
        "import numpy as np\n",
        "valor_maximo = max(valores)\n",
        "print(f\"Valor máximo: {valor_maximo}\")"
      ],
      "metadata": {
        "colab": {
          "base_uri": "https://localhost:8080/"
        },
        "id": "vTQu9s-9hLTA",
        "outputId": "0f8733fd-ff83-4b5e-8730-15d4724dafd1"
      },
      "execution_count": 6,
      "outputs": [
        {
          "output_type": "stream",
          "name": "stdout",
          "text": [
            "Valor máximo: 8\n"
          ]
        }
      ]
    },
    {
      "cell_type": "markdown",
      "source": [
        "valor minimo"
      ],
      "metadata": {
        "id": "FpS6o-duhfTK"
      }
    },
    {
      "cell_type": "code",
      "source": [
        "valor_minimo = min(valores)\n",
        "print(f\"Valor mínimo: {valor_minimo}\")"
      ],
      "metadata": {
        "colab": {
          "base_uri": "https://localhost:8080/"
        },
        "id": "BEFdf1Y9hisb",
        "outputId": "8e28f8f9-4457-46a2-a175-e4386db5ac7c"
      },
      "execution_count": 3,
      "outputs": [
        {
          "output_type": "stream",
          "name": "stdout",
          "text": [
            "Valor mínimo: 2\n"
          ]
        }
      ]
    },
    {
      "cell_type": "markdown",
      "source": [
        "Média aritmética"
      ],
      "metadata": {
        "id": "y3AK-vQohy6C"
      }
    },
    {
      "cell_type": "code",
      "source": [
        "media_aritmetica = np.mean(valores)\n",
        "print(f\"Média aritmética: {media_aritmetica}\")"
      ],
      "metadata": {
        "colab": {
          "base_uri": "https://localhost:8080/"
        },
        "id": "ShpzslELh2ZV",
        "outputId": "30346adb-82b8-4ba1-d15d-6bd78dc8e16b"
      },
      "execution_count": 7,
      "outputs": [
        {
          "output_type": "stream",
          "name": "stdout",
          "text": [
            "Média aritmética: 4.5\n"
          ]
        }
      ]
    },
    {
      "cell_type": "markdown",
      "source": [
        "mediana"
      ],
      "metadata": {
        "id": "YjLg8KLRicOn"
      }
    },
    {
      "cell_type": "code",
      "source": [
        "mediana = np.median(valores)\n",
        "print(f\"Mediana: {mediana}\")"
      ],
      "metadata": {
        "colab": {
          "base_uri": "https://localhost:8080/"
        },
        "id": "JE7uoABlh7NF",
        "outputId": "d8a7363d-6015-4a0b-e869-f1f4d568f6c7"
      },
      "execution_count": 8,
      "outputs": [
        {
          "output_type": "stream",
          "name": "stdout",
          "text": [
            "Mediana: 4.0\n"
          ]
        }
      ]
    },
    {
      "cell_type": "markdown",
      "source": [
        "desvio"
      ],
      "metadata": {
        "id": "jmXGuI5yiklG"
      }
    },
    {
      "cell_type": "code",
      "source": [
        "desvio_padrao_amostral = np.std(valores, ddof=1)\n",
        "print(f\"Desvio padrão amostral: {desvio_padrao_amostral}\")"
      ],
      "metadata": {
        "colab": {
          "base_uri": "https://localhost:8080/"
        },
        "id": "7A5FvGz1ioJ4",
        "outputId": "f9c6a4a2-59b9-48ee-b690-ce8400f0ecd9"
      },
      "execution_count": 9,
      "outputs": [
        {
          "output_type": "stream",
          "name": "stdout",
          "text": [
            "Desvio padrão amostral: 1.8516401995451028\n"
          ]
        }
      ]
    },
    {
      "cell_type": "code",
      "source": [],
      "metadata": {
        "id": "BNbANdQYiq43"
      },
      "execution_count": null,
      "outputs": []
    }
  ]
}