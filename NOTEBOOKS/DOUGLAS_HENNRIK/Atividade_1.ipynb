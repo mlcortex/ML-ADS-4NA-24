{
  "cells": [
    {
      "cell_type": "code",
      "execution_count": 1,
      "id": "06a9a3ed-4df0-43e8-a592-0b5c6ee92394",
      "metadata": {
        "id": "06a9a3ed-4df0-43e8-a592-0b5c6ee92394"
      },
      "outputs": [],
      "source": [
        "import pandas as pd\n",
        "import statistics as st\n",
        "import numpy as np"
      ]
    },
    {
      "cell_type": "code",
      "execution_count": 3,
      "id": "11e51ad7-b06d-4353-a793-b7bed8a4715c",
      "metadata": {
        "id": "11e51ad7-b06d-4353-a793-b7bed8a4715c"
      },
      "outputs": [],
      "source": [
        "# 01595743 - Douglas Hennrik de Oliveira \n",
        "\n",
        "#Setando a lista\n",
        "valores = [4, 6, 3, 4, 5, 8, 4, 2]\n",
        "df = pd.DataFrame({\n",
        "    'Valores' : valores\n",
        "}\n",
        ")"
      ]
    },
    {
      "cell_type": "code",
      "execution_count": 4,
      "id": "a7a4d57c-ea9a-43d1-82da-d144afb1e2da",
      "metadata": {
        "id": "a7a4d57c-ea9a-43d1-82da-d144afb1e2da",
        "outputId": "3d00cd0f-ff1b-4442-bb34-95bf800a0a25",
        "colab": {
          "base_uri": "https://localhost:8080/"
        }
      },
      "outputs": [
        {
          "output_type": "stream",
          "name": "stdout",
          "text": [
            "8\n"
          ]
        }
      ],
      "source": [
        "#Número com valor máximo\n",
        "máximo = df['Valores'].max()\n",
        "print(máximo)"
      ]
    },
    {
      "cell_type": "code",
      "execution_count": 5,
      "id": "65669580-f35a-4ade-a2f2-c276cd503a1a",
      "metadata": {
        "id": "65669580-f35a-4ade-a2f2-c276cd503a1a",
        "outputId": "f40fc909-8cd0-49e3-bfa6-9af955d22858",
        "colab": {
          "base_uri": "https://localhost:8080/"
        }
      },
      "outputs": [
        {
          "output_type": "stream",
          "name": "stdout",
          "text": [
            "2\n"
          ]
        }
      ],
      "source": [
        "#Número com valor mínimo\n",
        "mínimo = df['Valores'].min()\n",
        "print(mínimo)"
      ]
    },
    {
      "cell_type": "code",
      "execution_count": 6,
      "id": "73859a22-fccd-48c6-b2fb-ac3a87823d01",
      "metadata": {
        "id": "73859a22-fccd-48c6-b2fb-ac3a87823d01",
        "outputId": "3f35a8a1-6b3f-4faa-b0ab-f078379fb724",
        "colab": {
          "base_uri": "https://localhost:8080/"
        }
      },
      "outputs": [
        {
          "output_type": "stream",
          "name": "stdout",
          "text": [
            "4.5\n"
          ]
        }
      ],
      "source": [
        "#Média aritmética dos valores\n",
        "media = np.mean(valores)\n",
        "print(media)"
      ]
    },
    {
      "cell_type": "code",
      "execution_count": 7,
      "id": "d534d6f6-9c2d-401d-8515-34b0d3307131",
      "metadata": {
        "id": "d534d6f6-9c2d-401d-8515-34b0d3307131",
        "outputId": "411856cc-78f9-4ecc-cce7-7998053eff9a",
        "colab": {
          "base_uri": "https://localhost:8080/"
        }
      },
      "outputs": [
        {
          "output_type": "stream",
          "name": "stdout",
          "text": [
            "4.0\n"
          ]
        }
      ],
      "source": [
        "#Mediana dos valores\n",
        "mediana = st.median(valores)\n",
        "print(mediana)"
      ]
    },
    {
      "cell_type": "code",
      "execution_count": 8,
      "id": "862ee0f3-585b-4841-a525-3bddd53f4869",
      "metadata": {
        "id": "862ee0f3-585b-4841-a525-3bddd53f4869",
        "outputId": "4201635c-591c-4808-fe57-cadcccd899c5",
        "colab": {
          "base_uri": "https://localhost:8080/"
        }
      },
      "outputs": [
        {
          "output_type": "stream",
          "name": "stdout",
          "text": [
            "1.8516401995451028\n"
          ]
        }
      ],
      "source": [
        "#Desvio padrão dos valores\n",
        "desvio = st.stdev(valores)\n",
        "print(desvio)"
      ]
    },
    {
      "cell_type": "code",
      "execution_count": null,
      "id": "8ca17bf3-05fc-4748-b746-db942af6a46e",
      "metadata": {
        "id": "8ca17bf3-05fc-4748-b746-db942af6a46e"
      },
      "outputs": [],
      "source": []
    }
  ],
  "metadata": {
    "kernelspec": {
      "display_name": "Python 3 (ipykernel)",
      "language": "python",
      "name": "python3"
    },
    "language_info": {
      "codemirror_mode": {
        "name": "ipython",
        "version": 3
      },
      "file_extension": ".py",
      "mimetype": "text/x-python",
      "name": "python",
      "nbconvert_exporter": "python",
      "pygments_lexer": "ipython3",
      "version": "3.12.4"
    },
    "colab": {
      "provenance": []
    }
  },
  "nbformat": 4,
  "nbformat_minor": 5
}
