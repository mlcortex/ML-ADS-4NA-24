{
  "nbformat": 4,
  "nbformat_minor": 0,
  "metadata": {
    "colab": {
      "provenance": []
    },
    "kernelspec": {
      "name": "python3",
      "display_name": "Python 3"
    },
    "language_info": {
      "name": "python"
    }
  },
  "cells": [
    {
      "cell_type": "code",
      "execution_count": 20,
      "metadata": {
        "colab": {
          "base_uri": "https://localhost:8080/"
        },
        "id": "tv8Kj1WXu9M6",
        "outputId": "1bcc190a-fbd8-4119-d518-88ed5851deb0"
      },
      "outputs": [
        {
          "output_type": "stream",
          "name": "stdout",
          "text": [
            "Valor Máximo:  8\n",
            "Valor Mínimo:  2\n",
            "Média aritmética:  4.5\n",
            "Mediana:  4.0\n",
            "Desvio Padrão:  1.8516401995451028\n"
          ]
        }
      ],
      "source": [
        "import statistics\n",
        "\n",
        "valores = [4, 6, 3, 4, 5, 8, 4, 2]\n",
        "orderedValues = sorted(valores)\n",
        "maxValue = valores[0]\n",
        "minValue = valores[0]\n",
        "arithmeticMedia = 0.0\n",
        "total = 0\n",
        "mediana = 0\n",
        "defaultDeviation = statistics.stdev(valores)\n",
        "\n",
        "for valor in valores:\n",
        "  if valor > maxValue:\n",
        "      maxValue = valor\n",
        "  if valor < minValue:\n",
        "      minValue = valor\n",
        "  total += valor\n",
        "\n",
        "arithmeticMedia = total / len(valores)\n",
        "mediana = statistics.median(orderedValues)\n",
        "\n",
        "print(\"Valor Máximo: \",maxValue)\n",
        "print(\"Valor Mínimo: \",minValue)\n",
        "print(\"Média aritmética: \",arithmeticMedia)\n",
        "print(\"Mediana: \",mediana)\n",
        "print(\"Desvio Padrão: \", defaultDeviation)\n"
      ]
    }
  ]
}