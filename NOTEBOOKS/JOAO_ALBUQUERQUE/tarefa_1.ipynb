{
  "cells": [
    {
      "cell_type": "code",
      "execution_count": 1,
      "metadata": {
        "colab": {
          "base_uri": "https://localhost:8080/"
        },
        "id": "sqOA8S86xy8s",
        "outputId": "a100b8e9-1529-4189-ffb8-c917a645cbc9"
      },
      "outputs": [
        {
          "name": "stdout",
          "output_type": "stream",
          "text": [
            "Valor máximo: 8\n",
            "Valor mínimo: 2\n",
            "Média aritmética: 4.5\n",
            "Mediana: 4.0\n",
            "Desvio padrão: 1.85\n"
          ]
        }
      ],
      "source": [
        "import statistics\n",
        "\n",
        "valores = [4, 6, 3, 4, 5, 8, 4, 2]\n",
        "\n",
        "valor_maximo = max(valores)\n",
        "valor_minimo = min(valores)\n",
        "media_aritmetica = sum(valores) / len(valores)\n",
        "mediana = statistics.median(valores)\n",
        "desvio_padrao = statistics.stdev(valores)\n",
        "\n",
        "print(f\"Valor máximo: {valor_maximo}\")\n",
        "print(f\"Valor mínimo: {valor_minimo}\")\n",
        "print(f\"Média aritmética: {media_aritmetica}\")\n",
        "print(f\"Mediana: {mediana}\")\n",
        "print(f\"Desvio padrão: {desvio_padrao:.2f}\")\n"
      ]
    }
  ],
  "metadata": {
    "colab": {
      "name": "Olá, este é o Colaboratory",
      "provenance": [],
      "toc_visible": true
    },
    "kernelspec": {
      "display_name": "Python 3",
      "name": "python3"
    }
  },
  "nbformat": 4,
  "nbformat_minor": 0
}
