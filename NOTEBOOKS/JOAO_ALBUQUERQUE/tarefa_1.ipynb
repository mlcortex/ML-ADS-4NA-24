import statistics

valores = [4, 6, 3, 4, 5, 8, 4, 2]

valor_maximo = max(valores)
valor_minimo = min(valores)
media_aritmetica = sum(valores) / len(valores)
mediana = statistics.median(valores)
desvio_padrao = statistics.stdev(valores)

print(f"Valor máximo: {valor_maximo}")
print(f"Valor mínimo: {valor_minimo}")
print(f"Média aritmética: {media_aritmetica}")
print(f"Mediana: {mediana}")
print(f"Desvio padrão: {desvio_padrao:.2f}")
