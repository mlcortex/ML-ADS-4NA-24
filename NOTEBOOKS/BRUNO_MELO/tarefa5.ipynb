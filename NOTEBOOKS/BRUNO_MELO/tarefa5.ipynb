{
  "nbformat": 4,
  "nbformat_minor": 0,
  "metadata": {
    "colab": {
      "provenance": []
    },
    "kernelspec": {
      "name": "python3",
      "display_name": "Python 3"
    },
    "language_info": {
      "name": "python"
    }
  },
  "cells": [
    {
      "cell_type": "code",
      "execution_count": 1,
      "metadata": {
        "colab": {
          "base_uri": "https://localhost:8080/"
        },
        "id": "3mtowadD5kcA",
        "outputId": "7606545d-03a4-4027-fdc8-30a6f62667b8"
      },
      "outputs": [
        {
          "output_type": "stream",
          "name": "stdout",
          "text": [
            "Inércia do modelo K-Means: 44.887604580852816\n",
            "\n",
            "Distribuição dos clusters:\n",
            "cluster\n",
            "2    59\n",
            "1    50\n",
            "0    36\n",
            "3    33\n",
            "Name: count, dtype: int64\n",
            "\n",
            "Comparação entre clusters e as classes originais:\n",
            "cluster  classe\n",
            "0        2         34\n",
            "         1          2\n",
            "1        3         48\n",
            "         2          2\n",
            "2        1         57\n",
            "         2          2\n",
            "3        2         33\n",
            "Name: count, dtype: int64\n",
            "\n",
            "Alternativa com pd.crosstab:\n",
            "cluster   0   1   2   3\n",
            "classe                 \n",
            "1         2   0  57   0\n",
            "2        34   2   2  33\n",
            "3         0  48   0   0\n"
          ]
        }
      ],
      "source": [
        "import pandas as pd\n",
        "from sklearn.preprocessing import MinMaxScaler\n",
        "from sklearn.cluster import KMeans\n",
        "\n",
        "url = 'https://archive.ics.uci.edu/ml/machine-learning-databases/wine/wine.data'\n",
        "\n",
        "column_names_pt_br = [\n",
        "    'classe',\n",
        "    'alcool',\n",
        "    'acido_malico',\n",
        "    'cinzas',\n",
        "    'alcalinidade_de_cinzas',\n",
        "    'magnesio',\n",
        "    'fenois_totais',\n",
        "    'flavanoides',\n",
        "    'fenois_nao_flavanoides',\n",
        "    'proantocianinas',\n",
        "    'intensidade_de_cor',\n",
        "    'matiz',\n",
        "    'od280_od315_de_vinhos_diluidos',\n",
        "    'prolina'\n",
        "]\n",
        "\n",
        "# Lendo CSV das colunas especificadas, definindo a coluna 'classe' como objeto\n",
        "vinhos = pd.read_csv(url, names=column_names_pt_br, dtype={'classe': object})\n",
        "\n",
        "# 1. Normalizando os Dados\n",
        "# Drop da coluna 'classe'\n",
        "X = vinhos.drop('classe', axis=1)\n",
        "\n",
        "# Reescala linear dos dados\n",
        "scaler = MinMaxScaler()\n",
        "X_scaled = scaler.fit_transform(X)\n",
        "\n",
        "# 2. Aplicação do K-Means\n",
        "# Aplicando K-Means com 4 clusters\n",
        "kmeans = KMeans(n_clusters=4, random_state=42)\n",
        "vinhos['cluster'] = kmeans.fit_predict(X_scaled)\n",
        "\n",
        "# Apresentando o valor da inércia\n",
        "print(f'Inércia do modelo K-Means: {kmeans.inertia_}')\n",
        "\n",
        "# 3. Análise dos Clusters\n",
        "# Apresentando as contagens dos clusters\n",
        "print(\"\\nDistribuição dos clusters:\")\n",
        "print(vinhos['cluster'].value_counts())\n",
        "\n",
        "# 4. Comparação com as Classes Originais\n",
        "# Comparanddo os clusters com as classes originais\n",
        "print(\"\\nComparação entre clusters e as classes originais:\")\n",
        "comparacao = vinhos.groupby('cluster')['classe'].value_counts()\n",
        "print(comparacao)\n",
        "\n",
        "# Alternativa com pd.crosstab\n",
        "comparacao = pd.crosstab(vinhos['classe'], vinhos['cluster'])\n",
        "print(\"\\nAlternativa com pd.crosstab:\")\n",
        "print(comparacao)\n"
      ]
    }
  ]
}