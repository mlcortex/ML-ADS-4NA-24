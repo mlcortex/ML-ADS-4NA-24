{
  "metadata": {
    "kernelspec": {
      "name": "python",
      "display_name": "Python (Pyodide)",
      "language": "python"
    },
    "language_info": {
      "codemirror_mode": {
        "name": "python",
        "version": 3
      },
      "file_extension": ".py",
      "mimetype": "text/x-python",
      "name": "python",
      "nbconvert_exporter": "python",
      "pygments_lexer": "ipython3",
      "version": "3.8"
    }
  },
  "nbformat_minor": 4,
  "nbformat": 4,
  "cells": [
    {
      "cell_type": "code",
      "source": "\nvalores = [4, 6, 3, 4, 5, 8, 4, 2]\n\n#Valor máximo\nvalor_maximo = max(valores)\nprint(f'Valor Máximo: {valor_maximo}')\n\n\n#Valor mínimo\nvalor_minimo = min(valores)\nprint(f'Valor Mínimo: {valor_minimo}')\n\n\n#Média aritmética\nimport numpy as np\nmedia_aritmetica = np.mean(valores)\nprint(f'Média Aritmética: {media_aritmetica}')\n\n\n#Mediana\nmediana = np.median(valores)\nprint(f'Mediana: {mediana}')\n\n\n#Desvio Padrão\ndesvio_padrao = np.std(valores)\nprint(f'Desvio Padrão: {desvio_padrao}')\n",
      "metadata": {
        "trusted": true,
        "scrolled": true
      },
      "outputs": [
        {
          "name": "stdout",
          "text": "Valor Máximo: 8\nValor Mínimo: 2\nMédia Aritmética: 4.5\nMediana: 4.0\nDesvio Padrão: 1.7320508075688772\n",
          "output_type": "stream"
        }
      ],
      "execution_count": 2
    },
    {
      "cell_type": "code",
      "source": "",
      "metadata": {
        "trusted": true
      },
      "outputs": [],
      "execution_count": null
    }
  ]
}