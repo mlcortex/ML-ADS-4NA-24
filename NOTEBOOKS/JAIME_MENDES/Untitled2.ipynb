{
  "nbformat": 4,
  "nbformat_minor": 0,
  "metadata": {
    "colab": {
      "provenance": []
    },
    "kernelspec": {
      "name": "python3",
      "display_name": "Python 3"
    },
    "language_info": {
      "name": "python"
    }
  },
  "cells": [
    {
      "cell_type": "code",
      "execution_count": 1,
      "metadata": {
        "id": "sN07Tn6SZxUf"
      },
      "outputs": [],
      "source": [
        "valores = [4, 6, 3, 4, 5, 8, 4, 2]"
      ]
    },
    {
      "cell_type": "markdown",
      "source": [
        "Mostrando o valor máximo!"
      ],
      "metadata": {
        "id": "V2WpoOYbZ0Dx"
      }
    },
    {
      "cell_type": "code",
      "source": [
        "valor_max = max(valores)"
      ],
      "metadata": {
        "id": "b8Rw1PcbZ9ly"
      },
      "execution_count": 2,
      "outputs": []
    },
    {
      "cell_type": "code",
      "source": [
        "print(valor_max)"
      ],
      "metadata": {
        "colab": {
          "base_uri": "https://localhost:8080/"
        },
        "id": "5kJPwwIHaNZO",
        "outputId": "1efd40b7-cdbc-46b8-9c14-f8265e3d1413"
      },
      "execution_count": 3,
      "outputs": [
        {
          "output_type": "stream",
          "name": "stdout",
          "text": [
            "8\n"
          ]
        }
      ]
    },
    {
      "cell_type": "markdown",
      "source": [
        "Mostrando o valor mínimo!"
      ],
      "metadata": {
        "id": "oL9Wx7IEaUCd"
      }
    },
    {
      "cell_type": "code",
      "source": [
        "valor_min = min(valores)"
      ],
      "metadata": {
        "id": "wfwZyacUaSYE"
      },
      "execution_count": 4,
      "outputs": []
    },
    {
      "cell_type": "code",
      "source": [
        "print(valor_min)"
      ],
      "metadata": {
        "colab": {
          "base_uri": "https://localhost:8080/"
        },
        "id": "5CXg_VcEadh3",
        "outputId": "4fd6cde8-362c-4f56-a72d-aced25463d7d"
      },
      "execution_count": 5,
      "outputs": [
        {
          "output_type": "stream",
          "name": "stdout",
          "text": [
            "2\n"
          ]
        }
      ]
    },
    {
      "cell_type": "markdown",
      "source": [
        "Mostrando a média!"
      ],
      "metadata": {
        "id": "xHfq2TRvaklB"
      }
    },
    {
      "cell_type": "code",
      "source": [
        "import statistics"
      ],
      "metadata": {
        "id": "Fr-017ByajG0"
      },
      "execution_count": 6,
      "outputs": []
    },
    {
      "cell_type": "code",
      "source": [
        "media = statistics.mean(valores)"
      ],
      "metadata": {
        "id": "WU4KVf2IbtJT"
      },
      "execution_count": 7,
      "outputs": []
    },
    {
      "cell_type": "code",
      "source": [
        "print(media)"
      ],
      "metadata": {
        "colab": {
          "base_uri": "https://localhost:8080/"
        },
        "id": "sZMUX234bzsy",
        "outputId": "e0b19aa7-1f6c-4c2c-b8f1-de4bff64f8b1"
      },
      "execution_count": 8,
      "outputs": [
        {
          "output_type": "stream",
          "name": "stdout",
          "text": [
            "4.5\n"
          ]
        }
      ]
    },
    {
      "cell_type": "markdown",
      "source": [
        "Mostrando a mediana!"
      ],
      "metadata": {
        "id": "8uIEt6QMb4au"
      }
    },
    {
      "cell_type": "code",
      "source": [
        "from statistics import median"
      ],
      "metadata": {
        "id": "Ue_UPrSzb3dv"
      },
      "execution_count": 9,
      "outputs": []
    },
    {
      "cell_type": "code",
      "source": [
        "mediana = median(valores)"
      ],
      "metadata": {
        "id": "ZJIbB4xqcz-K"
      },
      "execution_count": 10,
      "outputs": []
    },
    {
      "cell_type": "code",
      "source": [
        "print(mediana)"
      ],
      "metadata": {
        "colab": {
          "base_uri": "https://localhost:8080/"
        },
        "id": "ms75ztAvc9WL",
        "outputId": "eb6be803-5281-4665-b493-05c33374fc91"
      },
      "execution_count": 11,
      "outputs": [
        {
          "output_type": "stream",
          "name": "stdout",
          "text": [
            "4.0\n"
          ]
        }
      ]
    },
    {
      "cell_type": "markdown",
      "source": [
        "Mostrando o desvio padrao!"
      ],
      "metadata": {
        "id": "MdbmFmOXdThl"
      }
    },
    {
      "cell_type": "code",
      "source": [
        "from statistics import stdev"
      ],
      "metadata": {
        "id": "QdGY6IzvdAdE"
      },
      "execution_count": 12,
      "outputs": []
    },
    {
      "cell_type": "code",
      "source": [
        "desvio_padrao = stdev(valores)"
      ],
      "metadata": {
        "id": "PBXlciiWdd7Y"
      },
      "execution_count": 13,
      "outputs": []
    },
    {
      "cell_type": "code",
      "source": [
        "print(desvio_padrao)"
      ],
      "metadata": {
        "colab": {
          "base_uri": "https://localhost:8080/"
        },
        "id": "xOF6IUx6dpMd",
        "outputId": "23dc3fa1-cc7e-44e8-824d-ac62e797400e"
      },
      "execution_count": 14,
      "outputs": [
        {
          "output_type": "stream",
          "name": "stdout",
          "text": [
            "1.8516401995451028\n"
          ]
        }
      ]
    },
    {
      "cell_type": "code",
      "source": [],
      "metadata": {
        "id": "e7IjI8tddsFr"
      },
      "execution_count": null,
      "outputs": []
    }
  ]
}