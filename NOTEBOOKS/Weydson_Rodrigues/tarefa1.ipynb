{
  "nbformat": 4,
  "nbformat_minor": 0,
  "metadata": {
    "colab": {
      "provenance": []
    },
    "kernelspec": {
      "name": "python3",
      "display_name": "Python 3"
    },
    "language_info": {
      "name": "python"
    }
  },
  "cells": [
    {
      "cell_type": "code",
      "execution_count": null,
      "metadata": {
        "colab": {
          "base_uri": "https://localhost:8080/"
        },
        "id": "2aP_8MK951q9",
        "outputId": "26788d95-cb80-4711-bb43-0cd8e54053b1"
      },
      "outputs": [
        {
          "output_type": "stream",
          "name": "stdout",
          "text": [
            "8\n",
            "2\n",
            "4.5\n",
            "4.0\n",
            "1.7320508075688772\n"
          ]
        }
      ],
      "source": [
        "import numpy as np\n",
        "#Para a seguinte lista de números:\n",
        "\n",
        "valores = [4, 6, 3, 4, 5, 8, 4, 2]\n",
        "#Crie um notebook que apresente as seguintes informações sobre a lista:\n",
        "\n",
        "#Valor máximo\n",
        "#Valor mínimo\n",
        "#Média aritmética dos valores\n",
        "#Mediana dos valores\n",
        "#Desvio padrão dos valores.\n",
        "#O arquivo deve conter o nome tarefa_1.ipynb. Envie o arquivo na sua respectiva pasta em NOTEBOOKS.\n",
        "\n",
        "valores = [4, 6, 3, 4, 5, 8, 4, 2]\n",
        "maximo = print (max(valores))\n",
        "minimo = print (min(valores))\n",
        "media = print (np.mean(valores))\n",
        "mediana = print (np.median(valores))\n",
        "desvio_padrao = print (np.std(valores))\n",
        "\n"
      ]
    }
  ]
}