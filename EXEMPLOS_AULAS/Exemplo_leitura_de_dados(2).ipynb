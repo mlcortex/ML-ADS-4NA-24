{
  "cells": [
    {
      "cell_type": "markdown",
      "metadata": {
        "id": "7Q_07rTQrVeJ"
      },
      "source": [
        "# Vamos ler a base de dados IRIS:\n",
        "link: https://archive.ics.uci.edu/dataset/53/iris\n",
        "\n",
        "Copiando o cod de ref:"
      ]
    },
    {
      "cell_type": "markdown",
      "metadata": {
        "id": "H82xj6JBsDg-"
      },
      "source": [
        "Mas vamos usar a biblioteca PANDAS, sem ter que usar a lib do UCI anterior.\n",
        "\n"
      ]
    },
    {
      "cell_type": "code",
      "execution_count": 2,
      "metadata": {
        "id": "Lt7G09eSr6fl"
      },
      "outputs": [],
      "source": [
        "import pandas as pd"
      ]
    },
    {
      "cell_type": "code",
      "execution_count": 3,
      "metadata": {
        "id": "80ToWIkTsPrW"
      },
      "outputs": [],
      "source": [
        "dados = pd.read_csv('https://archive.ics.uci.edu/static/public/53/data.csv')"
      ]
    },
    {
      "cell_type": "code",
      "execution_count": 6,
      "metadata": {
        "colab": {
          "base_uri": "https://localhost:8080/"
        },
        "id": "z6li-n6zsUKL",
        "outputId": "f8ed01fd-c829-4e4d-93c7-6d9427e54bd4"
      },
      "outputs": [
        {
          "name": "stdout",
          "output_type": "stream",
          "text": [
            "     sepal length  sepal width  petal length  petal width           class\n",
            "0             5.1          3.5           1.4          0.2     Iris-setosa\n",
            "1             4.9          3.0           1.4          0.2     Iris-setosa\n",
            "2             4.7          3.2           1.3          0.2     Iris-setosa\n",
            "3             4.6          3.1           1.5          0.2     Iris-setosa\n",
            "4             5.0          3.6           1.4          0.2     Iris-setosa\n",
            "..            ...          ...           ...          ...             ...\n",
            "145           6.7          3.0           5.2          2.3  Iris-virginica\n",
            "146           6.3          2.5           5.0          1.9  Iris-virginica\n",
            "147           6.5          3.0           5.2          2.0  Iris-virginica\n",
            "148           6.2          3.4           5.4          2.3  Iris-virginica\n",
            "149           5.9          3.0           5.1          1.8  Iris-virginica\n",
            "\n",
            "[150 rows x 5 columns]\n"
          ]
        }
      ],
      "source": [
        "#Aqui estou usando print para persistir a visualização do dataframe no notebook ao salvar.\n",
        "print(dados)"
      ]
    },
    {
      "cell_type": "code",
      "execution_count": 10,
      "metadata": {
        "colab": {
          "base_uri": "https://localhost:8080/"
        },
        "id": "QsCZ9Rrrutz3",
        "outputId": "e9d178e7-e612-4691-e74b-103adf378731"
      },
      "outputs": [
        {
          "name": "stdout",
          "output_type": "stream",
          "text": [
            "class\n",
            "Iris-setosa        50\n",
            "Iris-versicolor    50\n",
            "Iris-virginica     50\n",
            "Name: count, dtype: int64\n"
          ]
        }
      ],
      "source": [
        "#vamos contar quantos exemplos temos em cada clase, na coluna `class`\n",
        "print(dados['class'].value_counts())"
      ]
    }
  ],
  "metadata": {
    "colab": {
      "provenance": []
    },
    "kernelspec": {
      "display_name": "Python 3",
      "name": "python3"
    },
    "language_info": {
      "name": "python"
    }
  },
  "nbformat": 4,
  "nbformat_minor": 0
}
