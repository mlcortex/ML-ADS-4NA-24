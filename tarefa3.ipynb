{
  "nbformat": 4,
  "nbformat_minor": 0,
  "metadata": {
    "colab": {
      "provenance": [],
      "authorship_tag": "ABX9TyOQsY+SQ7R3m8qyIgFukKEu",
      "include_colab_link": true
    },
    "kernelspec": {
      "name": "python3",
      "display_name": "Python 3"
    },
    "language_info": {
      "name": "python"
    }
  },
  "cells": [
    {
      "cell_type": "markdown",
      "metadata": {
        "id": "view-in-github",
        "colab_type": "text"
      },
      "source": [
        "<a href=\"https://colab.research.google.com/github/LuisSilva79/ML-ADS-4NA-24/blob/main/tarefa3.ipynb\" target=\"_parent\"><img src=\"https://colab.research.google.com/assets/colab-badge.svg\" alt=\"Open In Colab\"/></a>"
      ]
    },
    {
      "cell_type": "code",
      "execution_count": null,
      "metadata": {
        "id": "aI7YI5viHJYh"
      },
      "outputs": [],
      "source": []
    },
    {
      "cell_type": "markdown",
      "source": [
        "Primeiro, vamos carregar o dataset de vinhos da UCI e verificar os dados:\n"
      ],
      "metadata": {
        "id": "Y-rROzIVHKFD"
      }
    },
    {
      "cell_type": "code",
      "source": [
        "import pandas as pd\n",
        "\n",
        "# URL do dataset Wine\n",
        "url = 'https://archive.ics.uci.edu/ml/machine-learning-databases/wine/wine.data'\n",
        "\n",
        "# Nome das colunas em português BR\n",
        "column_names_pt_br = [\n",
        "    'classe',\n",
        "    'alcool',\n",
        "    'acido_malico',\n",
        "    'cinzas',\n",
        "    'alcalinidade_de_cinzas',\n",
        "    'magnesio',\n",
        "    'fenois_totais',\n",
        "    'flavanoides',\n",
        "    'fenois_nao_flavanoides',\n",
        "    'proantocianinas',\n",
        "    'intensidade_de_cor',\n",
        "    'matiz',\n",
        "    'od280_od315_de_vinhos_diluidos',\n",
        "    'prolina'\n",
        "]\n",
        "\n",
        "# Ler o arquivo CSV com as colunas especificadas, definindo a coluna 'classe' como object\n",
        "vinhos = pd.read_csv(url, names=column_names_pt_br, dtype={'classe': object})\n",
        "\n",
        "# Verificando os dados\n",
        "print(vinhos.head())\n"
      ],
      "metadata": {
        "colab": {
          "base_uri": "https://localhost:8080/"
        },
        "id": "ndBlwSfkHRrD",
        "outputId": "7c92efb9-7eb7-458d-e114-9dee3490738f"
      },
      "execution_count": 11,
      "outputs": [
        {
          "output_type": "stream",
          "name": "stdout",
          "text": [
            "  classe  alcool  acido_malico  cinzas  alcalinidade_de_cinzas  magnesio  \\\n",
            "0      1   14.23          1.71    2.43                    15.6       127   \n",
            "1      1   13.20          1.78    2.14                    11.2       100   \n",
            "2      1   13.16          2.36    2.67                    18.6       101   \n",
            "3      1   14.37          1.95    2.50                    16.8       113   \n",
            "4      1   13.24          2.59    2.87                    21.0       118   \n",
            "\n",
            "   fenois_totais  flavanoides  fenois_nao_flavanoides  proantocianinas  \\\n",
            "0           2.80         3.06                    0.28             2.29   \n",
            "1           2.65         2.76                    0.26             1.28   \n",
            "2           2.80         3.24                    0.30             2.81   \n",
            "3           3.85         3.49                    0.24             2.18   \n",
            "4           2.80         2.69                    0.39             1.82   \n",
            "\n",
            "   intensidade_de_cor  matiz  od280_od315_de_vinhos_diluidos  prolina  \n",
            "0                5.64   1.04                            3.92     1065  \n",
            "1                4.38   1.05                            3.40     1050  \n",
            "2                5.68   1.03                            3.17     1185  \n",
            "3                7.80   0.86                            3.45     1480  \n",
            "4                4.32   1.04                            2.93      735  \n"
          ]
        }
      ]
    },
    {
      "cell_type": "markdown",
      "source": [
        "Separação dos Dados em Treino e Teste\n",
        "Dividimos o conjunto de dados em 70% para treino e 30% para teste:\n"
      ],
      "metadata": {
        "id": "dWjF3areHhJU"
      }
    },
    {
      "cell_type": "code",
      "source": [
        "from sklearn.model_selection import train_test_split\n",
        "\n",
        "# Separar os dados em variáveis de entrada (X) e saída (y)\n",
        "X = vinhos.drop('classe', axis=1)\n",
        "y = vinhos['classe']\n",
        "\n",
        "# Dividir o conjunto de dados em treino e teste\n",
        "X_train, X_test, y_train, y_test = train_test_split(X, y, test_size=0.3, random_state=42)\n"
      ],
      "metadata": {
        "id": "XmE_X87WHlPM"
      },
      "execution_count": 3,
      "outputs": []
    },
    {
      "cell_type": "markdown",
      "source": [
        "Treinamento e Avaliação do Classificador KNN\n",
        "Vamos treinar e avaliar o classificador KNN para k=3 e k=5:\n"
      ],
      "metadata": {
        "id": "2PaInpddHwrE"
      }
    },
    {
      "cell_type": "code",
      "source": [
        "from sklearn.neighbors import KNeighborsClassifier\n",
        "from sklearn.metrics import accuracy_score\n",
        "\n",
        "# Treinando o KNN com k=3\n",
        "knn3 = KNeighborsClassifier(n_neighbors=3)\n",
        "knn3.fit(X_train, y_train)\n",
        "y_pred_3 = knn3.predict(X_test)\n",
        "accuracy_3 = accuracy_score(y_test, y_pred_3)\n",
        "\n",
        "# Treinando o KNN com k=5\n",
        "knn5 = KNeighborsClassifier(n_neighbors=5)\n",
        "knn5.fit(X_train, y_train)\n",
        "y_pred_5 = knn5.predict(X_test)\n",
        "accuracy_5 = accuracy_score(y_test, y_pred_5)\n",
        "\n",
        "print(f\"Acurácia com k=3: {accuracy_3}\")\n",
        "print(f\"Acurácia com k=5: {accuracy_5}\")\n"
      ],
      "metadata": {
        "colab": {
          "base_uri": "https://localhost:8080/"
        },
        "id": "CQ8vsi0KHyD7",
        "outputId": "5b0aef89-9b5b-479b-b5af-5024e3358b51"
      },
      "execution_count": 4,
      "outputs": [
        {
          "output_type": "stream",
          "name": "stdout",
          "text": [
            "Acurácia com k=3: 0.7407407407407407\n",
            "Acurácia com k=5: 0.7407407407407407\n"
          ]
        }
      ]
    },
    {
      "cell_type": "markdown",
      "source": [
        "Análise com Diferentes Valores de random_state\n",
        "Repita o procedimento para random_state=17 e random_state=24:\n"
      ],
      "metadata": {
        "id": "sbWHDQZoH3Vr"
      }
    },
    {
      "cell_type": "code",
      "source": [
        "# Função para treinar e avaliar o KNN com diferentes valores de random_state e k\n",
        "def avaliar_knn(random_state):\n",
        "    X_train, X_test, y_train, y_test = train_test_split(X, y, test_size=0.3, random_state=random_state)\n",
        "\n",
        "    # KNN com k=3\n",
        "    knn3 = KNeighborsClassifier(n_neighbors=3)\n",
        "    knn3.fit(X_train, y_train)\n",
        "    y_pred_3 = knn3.predict(X_test)\n",
        "    accuracy_3 = accuracy_score(y_test, y_pred_3)\n",
        "\n",
        "    # KNN com k=5\n",
        "    knn5 = KNeighborsClassifier(n_neighbors=5)\n",
        "    knn5.fit(X_train, y_train)\n",
        "    y_pred_5 = knn5.predict(X_test)\n",
        "    accuracy_5 = accuracy_score(y_test, y_pred_5)\n",
        "\n",
        "    print(f\"random_state={random_state} -> Acurácia com k=3: {accuracy_3}, Acurácia com k=5: {accuracy_5}\")\n",
        "\n",
        "# Avaliar com random_state 17 e 24\n",
        "avaliar_knn(17)\n",
        "avaliar_knn(24)\n"
      ],
      "metadata": {
        "colab": {
          "base_uri": "https://localhost:8080/"
        },
        "id": "H_l5MOmJH7nU",
        "outputId": "19a2750f-a120-4c61-9b23-7280355fff2d"
      },
      "execution_count": 5,
      "outputs": [
        {
          "output_type": "stream",
          "name": "stdout",
          "text": [
            "random_state=17 -> Acurácia com k=3: 0.6481481481481481, Acurácia com k=5: 0.6666666666666666\n",
            "random_state=24 -> Acurácia com k=3: 0.7407407407407407, Acurácia com k=5: 0.6666666666666666\n"
          ]
        }
      ]
    },
    {
      "cell_type": "markdown",
      "source": [
        "Comparação Final\n",
        "Depois de realizar os testes, compare os resultados obtidos:\n"
      ],
      "metadata": {
        "id": "kik7oK2qIA5e"
      }
    },
    {
      "cell_type": "code",
      "source": [
        "# Listar as acurácias obtidas para cada configuração\n",
        "resultados = {\n",
        "    'random_state': [42, 17, 24],\n",
        "    'accuracy_k3': [accuracy_3_42, accuracy_3_17, accuracy_3_24],\n",
        "    'accuracy_k5': [accuracy_5_42, accuracy_5_17, accuracy_5_24]\n",
        "}\n",
        "\n",
        "# Criar um DataFrame para facilitar a visualização\n",
        "resultados_df = pd.DataFrame(resultados)\n",
        "print(resultados_df)\n",
        "\n",
        "# Identificar a melhor configuração\n",
        "melhor_configuracao_idx = resultados_df.loc[resultados_df[['accuracy_k3', 'accuracy_k5']].max(axis=1).idxmax()]\n",
        "print(f\"Melhor configuração: random_state={melhor_configuracao['random_state']}, k={melhor_configuracao.idxmax().split('_')[1]}, Acurácia={melhor_configuracao.max()}\")\n"
      ],
      "metadata": {
        "colab": {
          "base_uri": "https://localhost:8080/"
        },
        "id": "I-nX7Ct_J9V8",
        "outputId": "82df50d9-d25a-43d5-8886-cae6d80a5239"
      },
      "execution_count": 10,
      "outputs": [
        {
          "output_type": "stream",
          "name": "stdout",
          "text": [
            "   random_state  accuracy_k3  accuracy_k5\n",
            "0            42         0.85         0.87\n",
            "1            17         0.88         0.89\n",
            "2            24         0.90         0.91\n",
            "Melhor configuração: random_state=24.0, k=state, Acurácia=24.0\n"
          ]
        }
      ]
    }
  ]
}