{
  "nbformat": 4,
  "nbformat_minor": 0,
  "metadata": {
    "colab": {
      "provenance": []
    },
    "kernelspec": {
      "name": "python3",
      "display_name": "Python 3"
    },
    "language_info": {
      "name": "python"
    }
  },
  "cells": [
    {
      "cell_type": "code",
      "execution_count": 15,
      "metadata": {
        "id": "EiLlnSQdYTpQ"
      },
      "outputs": [],
      "source": [
        "import pandas as pd\n",
        "from sklearn.model_selection import train_test_split\n",
        "from sklearn.neighbors import KNeighborsClassifier\n",
        "from sklearn.metrics import accuracy_score\n",
        "from sklearn.model_selection import KFold\n",
        "import numpy as np\n",
        "\n",
        "# URL do dataset Wine\n",
        "url = 'https://archive.ics.uci.edu/ml/machine-learning-databases/wine/wine.data'\n",
        "\n",
        "# Nome das colunas em português BR\n",
        "column_names_pt_br = [\n",
        "    'classe',\n",
        "    'alcool',\n",
        "    'acido_malico',\n",
        "    'cinzas',\n",
        "    'alcalinidade_de_cinzas',\n",
        "    'magnesio',\n",
        "    'fenois_totais',\n",
        "    'flavanoides',\n",
        "    'fenois_nao_flavanoides',\n",
        "    'proantocianinas',\n",
        "    'intensidade_de_cor',\n",
        "    'matiz',\n",
        "    'od280_od315_de_vinhos_diluidos',\n",
        "    'prolina'\n",
        "]\n",
        "\n",
        "# Ler o arquivo CSV com as colunas especificadas, definindo a coluna 'classe' como object\n",
        "vinhos = pd.read_csv(url, names=column_names_pt_br, dtype={'classe': object})"
      ]
    },
    {
      "cell_type": "code",
      "source": [
        "# Separar as variáveis\n",
        "X = vinhos.drop('classe', axis=1)  # Todas as colunas exceto 'classe'\n",
        "y = vinhos['classe']  # Coluna 'classe' como variável-alvo\n"
      ],
      "metadata": {
        "id": "cfp5T9hrYUm1"
      },
      "execution_count": 7,
      "outputs": []
    },
    {
      "cell_type": "code",
      "source": [
        "# Função para realizar o experimento\n",
        "def realizar_experimento(random_state, k):\n",
        "    # Dividir os dados em treino e teste\n",
        "    X_train, X_test, y_train, y_test = train_test_split(X, y, test_size=0.3, random_state=random_state)\n",
        "\n",
        "    # Criar o modelo KNN\n",
        "    knn = KNeighborsClassifier(n_neighbors=k)\n",
        "\n",
        "    # Treinar o modelo\n",
        "    knn.fit(X_train, y_train)\n",
        "\n",
        "    # Fazer previsões\n",
        "    y_pred = knn.predict(X_test)\n",
        "\n",
        "    # Calcular a acurácia\n",
        "    accuracy = accuracy_score(y_test, y_pred)\n",
        "    return accuracy\n",
        "\n",
        "# Experimentar com diferentes random_state e k\n",
        "resultados = {}\n",
        "for random_state in [42, 17, 24]:\n",
        "    for k in [3, 5]:\n",
        "        resultado = realizar_experimento(random_state, k)\n",
        "        resultados[f'Random State {random_state} - k={k}'] = resultado\n",
        "\n",
        "# Mostrar os resultados\n",
        "for chave, valor in resultados.items():\n",
        "    print(f'{chave}: {valor:.4f}')\n"
      ],
      "metadata": {
        "colab": {
          "base_uri": "https://localhost:8080/"
        },
        "id": "E3NsmlSfY8iZ",
        "outputId": "6cd3b097-4bff-4c76-e381-8b4d16f4b05b"
      },
      "execution_count": 11,
      "outputs": [
        {
          "output_type": "stream",
          "name": "stdout",
          "text": [
            "Random State 42 - k=3: 0.7407\n",
            "Random State 42 - k=5: 0.7407\n",
            "Random State 17 - k=3: 0.6481\n",
            "Random State 17 - k=5: 0.6667\n",
            "Random State 24 - k=3: 0.7407\n",
            "Random State 24 - k=5: 0.6667\n"
          ]
        }
      ]
    },
    {
      "cell_type": "code",
      "source": [
        "# Função para realizar o experimento com KFold\n",
        "def realizar_cross_validation(random_state, k):\n",
        "    # Configurar o KFold com 10 splits\n",
        "    kf = KFold(n_splits=10, shuffle=True, random_state=random_state)\n",
        "\n",
        "    accuracies = []  # Para armazenar as acurácias de cada fold\n",
        "\n",
        "    # Para cada fold\n",
        "    for train_index, test_index in kf.split(X):\n",
        "        # Dividir os dados em treino e teste\n",
        "        X_train, X_test = X.iloc[train_index], X.iloc[test_index]\n",
        "        y_train, y_test = y.iloc[train_index], y.iloc[test_index]\n",
        "\n",
        "        # Criar o modelo KNN com k\n",
        "        knn = KNeighborsClassifier(n_neighbors=k)\n",
        "\n",
        "        # Treinar o modelo\n",
        "        knn.fit(X_train, y_train)\n",
        "\n",
        "        # Fazer previsões\n",
        "        y_pred = knn.predict(X_test)\n",
        "\n",
        "        # Calcular a acurácia e adicionar à lista\n",
        "        accuracy = accuracy_score(y_test, y_pred)\n",
        "        accuracies.append(accuracy)\n",
        "\n",
        "    # Calcular a média e o desvio padrão das acurácias\n",
        "    mean_accuracy = np.mean(accuracies)\n",
        "    std_accuracy = np.std(accuracies)\n",
        "\n",
        "    return mean_accuracy, std_accuracy\n",
        "\n",
        "# Resultados para diferentes random_state e k\n",
        "resultados_cv = {}\n",
        "for random_state in [42, 17, 24]:\n",
        "    for k in [3, 5]:\n",
        "        mean_accuracy, std_accuracy = realizar_cross_validation(random_state, k)\n",
        "        resultados_cv[f'Random State {random_state} - k={k}'] = (mean_accuracy, std_accuracy)\n",
        "\n",
        "# Mostrar os resultados\n",
        "for chave, (mean_accuracy, std_accuracy) in resultados_cv.items():\n",
        "    print(f'{chave} - Média: {mean_accuracy:.4f}, Desvio Padrão: {std_accuracy:.4f}')\n"
      ],
      "metadata": {
        "colab": {
          "base_uri": "https://localhost:8080/"
        },
        "id": "WqlqZp5mZZzJ",
        "outputId": "554f10bf-eea2-4bc8-be8f-e5c0d0d4c734"
      },
      "execution_count": 18,
      "outputs": [
        {
          "output_type": "stream",
          "name": "stdout",
          "text": [
            "Random State 42 - k=3 - Média: 0.7036, Desvio Padrão: 0.1392\n",
            "Random State 42 - k=5 - Média: 0.6641, Desvio Padrão: 0.1001\n",
            "Random State 17 - k=3 - Média: 0.6987, Desvio Padrão: 0.1040\n",
            "Random State 17 - k=5 - Média: 0.6876, Desvio Padrão: 0.1121\n",
            "Random State 24 - k=3 - Média: 0.7127, Desvio Padrão: 0.0968\n",
            "Random State 24 - k=5 - Média: 0.7127, Desvio Padrão: 0.0940\n"
          ]
        }
      ]
    },
    {
      "cell_type": "code",
      "source": [
        "# Análise dos resultados\n",
        "resultados_analise = {}\n",
        "\n",
        "# Para cada random_state, comparar os resultados de k=3 e k=5\n",
        "for random_state in [42, 17, 24]:\n",
        "    k3_mean, k3_std = resultados_cv[f'Random State {random_state} - k=3']\n",
        "    k5_mean, k5_std = resultados_cv[f'Random State {random_state} - k=5']\n",
        "\n",
        "    # Comparar as médias de acurácia\n",
        "    if k3_mean > k5_mean:\n",
        "        melhor_k = 3\n",
        "        melhor_media = k3_mean\n",
        "        desvio_padrao = k3_std\n",
        "    elif k5_mean > k3_mean:\n",
        "        melhor_k = 5\n",
        "        melhor_media = k5_mean\n",
        "        desvio_padrao = k5_std\n",
        "    else:\n",
        "        melhor_k = 'Empate'\n",
        "        melhor_media = k3_mean  # ou k5_mean, já que são iguais\n",
        "        desvio_padrao = (k3_std + k5_std) / 2  # Média dos desvios padrão em caso de empate\n",
        "\n",
        "    resultados_analise[f'Random State {random_state}'] = {\n",
        "        'Média k=3': k3_mean,\n",
        "        'Desvio Padrão k=3': k3_std,\n",
        "        'Média k=5': k5_mean,\n",
        "        'Desvio Padrão k=5': k5_std,\n",
        "        'Melhor k': melhor_k,\n",
        "        'Melhor Média': melhor_media,\n",
        "        'Desvio Padrão (Melhor k)': desvio_padrao\n",
        "    }\n",
        "\n",
        "# Mostrar os resultados da análise\n",
        "for random_state, resultados in resultados_analise.items():\n",
        "    print(f\"\\nResultados para {random_state}:\")\n",
        "    print(f\"Média k=3: {resultados['Média k=3']:.4f}, Desvio Padrão k=3: {resultados['Desvio Padrão k=3']:.4f}\")\n",
        "    print(f\"Média k=5: {resultados['Média k=5']:.4f}, Desvio Padrão k=5: {resultados['Desvio Padrão k=5']:.4f}\")\n",
        "    print(f\"Melhor k: {resultados['Melhor k']}\")\n",
        "    print(f\"Melhor Média: {resultados['Melhor Média']:.4f}, Desvio Padrão (Melhor k): {resultados['Desvio Padrão (Melhor k)']:.4f}\")\n"
      ],
      "metadata": {
        "colab": {
          "base_uri": "https://localhost:8080/"
        },
        "id": "d8AtKc_UaIO9",
        "outputId": "0921d755-079f-445b-8480-c0f33022c72e"
      },
      "execution_count": 19,
      "outputs": [
        {
          "output_type": "stream",
          "name": "stdout",
          "text": [
            "\n",
            "Resultados para Random State 42:\n",
            "Média k=3: 0.7036, Desvio Padrão k=3: 0.1392\n",
            "Média k=5: 0.6641, Desvio Padrão k=5: 0.1001\n",
            "Melhor k: 3\n",
            "Melhor Média: 0.7036, Desvio Padrão (Melhor k): 0.1392\n",
            "\n",
            "Resultados para Random State 17:\n",
            "Média k=3: 0.6987, Desvio Padrão k=3: 0.1040\n",
            "Média k=5: 0.6876, Desvio Padrão k=5: 0.1121\n",
            "Melhor k: 3\n",
            "Melhor Média: 0.6987, Desvio Padrão (Melhor k): 0.1040\n",
            "\n",
            "Resultados para Random State 24:\n",
            "Média k=3: 0.7127, Desvio Padrão k=3: 0.0968\n",
            "Média k=5: 0.7127, Desvio Padrão k=5: 0.0940\n",
            "Melhor k: Empate\n",
            "Melhor Média: 0.7127, Desvio Padrão (Melhor k): 0.0954\n"
          ]
        }
      ]
    },
    {
      "cell_type": "code",
      "source": [],
      "metadata": {
        "id": "8MFSCl9ZaMeq"
      },
      "execution_count": null,
      "outputs": []
    }
  ]
}