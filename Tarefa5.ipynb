{
  "nbformat": 4,
  "nbformat_minor": 0,
  "metadata": {
    "colab": {
      "provenance": [],
      "authorship_tag": "ABX9TyO4GL8U9nQspS4ek4XThsyk",
      "include_colab_link": true
    },
    "kernelspec": {
      "name": "python3",
      "display_name": "Python 3"
    },
    "language_info": {
      "name": "python"
    }
  },
  "cells": [
    {
      "cell_type": "markdown",
      "metadata": {
        "id": "view-in-github",
        "colab_type": "text"
      },
      "source": [
        "<a href=\"https://colab.research.google.com/github/LuisSilva79/ML-ADS-4NA-24/blob/main/Tarefa5.ipynb\" target=\"_parent\"><img src=\"https://colab.research.google.com/assets/colab-badge.svg\" alt=\"Open In Colab\"/></a>"
      ]
    },
    {
      "cell_type": "code",
      "execution_count": null,
      "metadata": {
        "id": "0GYVG4CDTU50"
      },
      "outputs": [],
      "source": []
    },
    {
      "cell_type": "markdown",
      "source": [
        "Leitura dos Dados\n",
        "Primeiro, vamos carregar o dataset de vinhos da UCI:\n"
      ],
      "metadata": {
        "id": "3CQ28EcOUA-u"
      }
    },
    {
      "cell_type": "code",
      "source": [
        "import pandas as pd\n",
        "\n",
        "# URL do dataset Wine\n",
        "url = 'https://archive.ics.uci.edu/ml/machine-learning-databases/wine/wine.data'\n",
        "\n",
        "# Nome das colunas em português BR\n",
        "column_names_pt_br = [\n",
        "    'classe',\n",
        "    'alcool',\n",
        "    'acido_malico',\n",
        "    'cinzas',\n",
        "    'alcalinidade_de_cinzas',\n",
        "    'magnesio',\n",
        "    'fenois_totais',\n",
        "    'flavanoides',\n",
        "    'fenois_nao_flavanoides',\n",
        "    'proantocianinas',\n",
        "    'intensidade_de_cor',\n",
        "    'matiz',\n",
        "    'od280_od315_de_vinhos_diluidos',\n",
        "    'prolina'\n",
        "]\n",
        "\n",
        "# Ler o arquivo CSV com as colunas especificadas, definindo a coluna 'classe' como object\n",
        "vinhos = pd.read_csv(url, names=column_names_pt_br, dtype={'classe': object})\n",
        "\n",
        "# Verificando os dados\n",
        "print(vinhos.head())\n"
      ],
      "metadata": {
        "colab": {
          "base_uri": "https://localhost:8080/"
        },
        "id": "PmIdh8X1UE3k",
        "outputId": "cdc7b4ba-ed9e-4aaa-9fc5-2e47a84b9ee8"
      },
      "execution_count": 1,
      "outputs": [
        {
          "output_type": "stream",
          "name": "stdout",
          "text": [
            "  classe  alcool  acido_malico  cinzas  alcalinidade_de_cinzas  magnesio  \\\n",
            "0      1   14.23          1.71    2.43                    15.6       127   \n",
            "1      1   13.20          1.78    2.14                    11.2       100   \n",
            "2      1   13.16          2.36    2.67                    18.6       101   \n",
            "3      1   14.37          1.95    2.50                    16.8       113   \n",
            "4      1   13.24          2.59    2.87                    21.0       118   \n",
            "\n",
            "   fenois_totais  flavanoides  fenois_nao_flavanoides  proantocianinas  \\\n",
            "0           2.80         3.06                    0.28             2.29   \n",
            "1           2.65         2.76                    0.26             1.28   \n",
            "2           2.80         3.24                    0.30             2.81   \n",
            "3           3.85         3.49                    0.24             2.18   \n",
            "4           2.80         2.69                    0.39             1.82   \n",
            "\n",
            "   intensidade_de_cor  matiz  od280_od315_de_vinhos_diluidos  prolina  \n",
            "0                5.64   1.04                            3.92     1065  \n",
            "1                4.38   1.05                            3.40     1050  \n",
            "2                5.68   1.03                            3.17     1185  \n",
            "3                7.80   0.86                            3.45     1480  \n",
            "4                4.32   1.04                            2.93      735  \n"
          ]
        }
      ]
    },
    {
      "cell_type": "markdown",
      "source": [
        "Normalização dos Dados\n",
        "Vamos reescalar os dados para o intervalo (0, 1) usando o MinMaxScaler:\n"
      ],
      "metadata": {
        "id": "5WRSXs08Un-l"
      }
    },
    {
      "cell_type": "markdown",
      "source": [
        "Antes de aplicar o algoritmo K-Means, precisamos normalizar os dados para garantir que todas as variáveis estejam no mesmo intervalo. Usamos o MinMaxScaler do scikit-learn para reescalar os dados no intervalo (0, 1)."
      ],
      "metadata": {
        "id": "Rp9OmmwOV-ib"
      }
    },
    {
      "cell_type": "code",
      "source": [
        "from sklearn.preprocessing import MinMaxScaler\n",
        "\n",
        "# Dropar a coluna 'classe'\n",
        "X = vinhos.drop('classe', axis=1)\n",
        "\n",
        "# Reescala linear dos dados\n",
        "scaler = MinMaxScaler()\n",
        "X_scaled = scaler.fit_transform(X)\n"
      ],
      "metadata": {
        "id": "JbKlaba2Uo9M"
      },
      "execution_count": 2,
      "outputs": []
    },
    {
      "cell_type": "markdown",
      "source": [
        "Aqui aplicamos o algoritmo K-Means para agrupar os dados em 4 clusters. Usamos random_state=42 para garantir que os resultados sejam reproduzíveis. Depois de treinar o modelo, apresentamos o valor da inércia, que mede a soma das distâncias quadradas das amostras ao cluster mais próximo."
      ],
      "metadata": {
        "id": "8S_WT1voV10s"
      }
    },
    {
      "cell_type": "code",
      "source": [
        "from sklearn.cluster import KMeans\n",
        "\n",
        "# Aplicar K-Means com 4 clusters\n",
        "kmeans = KMeans(n_clusters=4, random_state=42)\n",
        "vinhos['cluster'] = kmeans.fit_predict(X_scaled)\n",
        "\n",
        "# Apresentar o valor da inércia\n",
        "print(f'Inércia do modelo K-Means: {kmeans.inertia_}')\n"
      ],
      "metadata": {
        "colab": {
          "base_uri": "https://localhost:8080/"
        },
        "id": "AW7nFJLxUv5u",
        "outputId": "a9c7a1e9-096d-4647-da5d-1843432fd844"
      },
      "execution_count": 3,
      "outputs": [
        {
          "output_type": "stream",
          "name": "stdout",
          "text": [
            "Inércia do modelo K-Means: 44.887604580852816\n"
          ]
        }
      ]
    },
    {
      "cell_type": "markdown",
      "source": [
        "Análise dos Clusters\n",
        "Mostre a distribuição dos clusters na nova coluna criada:"
      ],
      "metadata": {
        "id": "m2KaEEWtU1-T"
      }
    },
    {
      "cell_type": "markdown",
      "source": [
        "Após a aplicação do K-Means, verificamos a distribuição dos clusters na nova coluna que foi criada, usando o método value_counts()."
      ],
      "metadata": {
        "id": "Bjr1m8wsWlNj"
      }
    },
    {
      "cell_type": "code",
      "source": [
        "# Apresentar a contagem dos clusters\n",
        "print(vinhos['cluster'].value_counts())\n"
      ],
      "metadata": {
        "colab": {
          "base_uri": "https://localhost:8080/"
        },
        "id": "_6H9otWxU5UU",
        "outputId": "2f47461b-1d7f-4d9c-fb72-46728e6841e8"
      },
      "execution_count": 4,
      "outputs": [
        {
          "output_type": "stream",
          "name": "stdout",
          "text": [
            "cluster\n",
            "2    59\n",
            "1    50\n",
            "0    36\n",
            "3    33\n",
            "Name: count, dtype: int64\n"
          ]
        }
      ]
    },
    {
      "cell_type": "markdown",
      "source": [
        "Comparação com Classes Originais\n",
        "Compare a distribuição dos clusters obtidos com as classes originais da coluna classe usando o método groupby ou pd.crosstab:"
      ],
      "metadata": {
        "id": "qqk0z3fwU_5r"
      }
    },
    {
      "cell_type": "code",
      "source": [
        "# Comparar clusters com as classes originais usando groupby\n",
        "comparacao_groupby = vinhos.groupby('cluster')['classe'].value_counts()\n",
        "print(comparacao_groupby)\n",
        "\n",
        "# Comparar clusters com as classes originais usando crosstab\n",
        "comparacao_crosstab = pd.crosstab(vinhos['classe'], vinhos['cluster'])\n",
        "print(comparacao_crosstab)\n"
      ],
      "metadata": {
        "colab": {
          "base_uri": "https://localhost:8080/"
        },
        "id": "jLIQeokiVApE",
        "outputId": "4f3bc03f-fe14-452e-aa73-dbf29d8e2357"
      },
      "execution_count": 6,
      "outputs": [
        {
          "output_type": "stream",
          "name": "stdout",
          "text": [
            "cluster  classe\n",
            "0        2         34\n",
            "         1          2\n",
            "1        3         48\n",
            "         2          2\n",
            "2        1         57\n",
            "         2          2\n",
            "3        2         33\n",
            "Name: count, dtype: int64\n",
            "cluster   0   1   2   3\n",
            "classe                 \n",
            "1         2   0  57   0\n",
            "2        34   2   2  33\n",
            "3         0  48   0   0\n"
          ]
        }
      ]
    }
  ]
}